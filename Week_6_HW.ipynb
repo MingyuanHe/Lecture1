{
  "nbformat": 4,
  "nbformat_minor": 0,
  "metadata": {
    "colab": {
      "provenance": [],
      "toc_visible": true
    },
    "kernelspec": {
      "name": "python3",
      "display_name": "Python 3"
    },
    "language_info": {
      "name": "python"
    }
  },
  "cells": [
    {
      "cell_type": "markdown",
      "source": [
        "# 1.) Preprocess your data into scaled input variables and an output variable\n"
      ],
      "metadata": {
        "id": "7ywSRtNI4s5h"
      }
    },
    {
      "cell_type": "code",
      "execution_count": 2,
      "metadata": {
        "id": "nsG1QV154GYZ"
      },
      "outputs": [],
      "source": [
        "import pandas as pd\n",
        "from google.colab import drive\n",
        "import matplotlib.pyplot as plt\n",
        "import numpy as np\n",
        "import datetime"
      ]
    },
    {
      "cell_type": "code",
      "source": [
        "drive.mount('/content/gdrive/', force_remount = True)"
      ],
      "metadata": {
        "colab": {
          "base_uri": "https://localhost:8080/"
        },
        "id": "Iku0T8Ou4Lcu",
        "outputId": "5f9ce067-e42e-4a9b-a2e9-5d590c2eea80"
      },
      "execution_count": 3,
      "outputs": [
        {
          "output_type": "stream",
          "name": "stdout",
          "text": [
            "Mounted at /content/gdrive/\n"
          ]
        }
      ]
    },
    {
      "cell_type": "code",
      "source": [
        "df = pd.read_csv(\"/content/gdrive/MyDrive/CLV.csv\")\n"
      ],
      "metadata": {
        "id": "Q7XmCWs_rULl"
      },
      "execution_count": 4,
      "outputs": []
    },
    {
      "cell_type": "code",
      "source": [
        "df.head()"
      ],
      "metadata": {
        "id": "hN53osSaWoJd",
        "colab": {
          "base_uri": "https://localhost:8080/",
          "height": 322
        },
        "outputId": "ff684590-7973-41ca-aa77-732e86862eaf"
      },
      "execution_count": 5,
      "outputs": [
        {
          "output_type": "execute_result",
          "data": {
            "text/plain": [
              "   Unnamed: 0  Customer Lifetime Value  Income  Number of Policies  \\\n",
              "0           0              2763.519279   56274                   1   \n",
              "1           1              6979.535903       0                   8   \n",
              "2           2             12887.431650   48767                   2   \n",
              "3           3              7645.861827       0                   7   \n",
              "4           4              2813.692575   43836                   1   \n",
              "\n",
              "   Total Claim Amount  Months Since Last Claim  Vehicle Size_Large  \\\n",
              "0          384.811147                       32                   0   \n",
              "1         1131.464935                       13                   0   \n",
              "2          566.472247                       18                   0   \n",
              "3          529.881344                       18                   0   \n",
              "4          138.130879                       12                   0   \n",
              "\n",
              "   Vehicle Size_Medsize  Gender_M  EmploymentStatus_Employed  \\\n",
              "0                     1         0                          1   \n",
              "1                     1         0                          0   \n",
              "2                     1         0                          1   \n",
              "3                     1         1                          0   \n",
              "4                     1         1                          1   \n",
              "\n",
              "   EmploymentStatus_Medical Leave  EmploymentStatus_Retired  \\\n",
              "0                               0                         0   \n",
              "1                               0                         0   \n",
              "2                               0                         0   \n",
              "3                               0                         0   \n",
              "4                               0                         0   \n",
              "\n",
              "   EmploymentStatus_Unemployed  Policy Type_Corporate Auto  \\\n",
              "0                            0                           1   \n",
              "1                            1                           0   \n",
              "2                            0                           0   \n",
              "3                            1                           1   \n",
              "4                            0                           0   \n",
              "\n",
              "   Policy Type_Personal Auto  Marital Status_Divorced  Marital Status_Married  \\\n",
              "0                          0                        0                       1   \n",
              "1                          1                        0                       0   \n",
              "2                          1                        0                       1   \n",
              "3                          0                        0                       1   \n",
              "4                          1                        0                       0   \n",
              "\n",
              "   Marital Status_Single  \n",
              "0                      0  \n",
              "1                      1  \n",
              "2                      0  \n",
              "3                      0  \n",
              "4                      1  "
            ],
            "text/html": [
              "\n",
              "  <div id=\"df-3c77fb11-dc4c-4d22-b89f-743ddfb44ca1\">\n",
              "    <div class=\"colab-df-container\">\n",
              "      <div>\n",
              "<style scoped>\n",
              "    .dataframe tbody tr th:only-of-type {\n",
              "        vertical-align: middle;\n",
              "    }\n",
              "\n",
              "    .dataframe tbody tr th {\n",
              "        vertical-align: top;\n",
              "    }\n",
              "\n",
              "    .dataframe thead th {\n",
              "        text-align: right;\n",
              "    }\n",
              "</style>\n",
              "<table border=\"1\" class=\"dataframe\">\n",
              "  <thead>\n",
              "    <tr style=\"text-align: right;\">\n",
              "      <th></th>\n",
              "      <th>Unnamed: 0</th>\n",
              "      <th>Customer Lifetime Value</th>\n",
              "      <th>Income</th>\n",
              "      <th>Number of Policies</th>\n",
              "      <th>Total Claim Amount</th>\n",
              "      <th>Months Since Last Claim</th>\n",
              "      <th>Vehicle Size_Large</th>\n",
              "      <th>Vehicle Size_Medsize</th>\n",
              "      <th>Gender_M</th>\n",
              "      <th>EmploymentStatus_Employed</th>\n",
              "      <th>EmploymentStatus_Medical Leave</th>\n",
              "      <th>EmploymentStatus_Retired</th>\n",
              "      <th>EmploymentStatus_Unemployed</th>\n",
              "      <th>Policy Type_Corporate Auto</th>\n",
              "      <th>Policy Type_Personal Auto</th>\n",
              "      <th>Marital Status_Divorced</th>\n",
              "      <th>Marital Status_Married</th>\n",
              "      <th>Marital Status_Single</th>\n",
              "    </tr>\n",
              "  </thead>\n",
              "  <tbody>\n",
              "    <tr>\n",
              "      <th>0</th>\n",
              "      <td>0</td>\n",
              "      <td>2763.519279</td>\n",
              "      <td>56274</td>\n",
              "      <td>1</td>\n",
              "      <td>384.811147</td>\n",
              "      <td>32</td>\n",
              "      <td>0</td>\n",
              "      <td>1</td>\n",
              "      <td>0</td>\n",
              "      <td>1</td>\n",
              "      <td>0</td>\n",
              "      <td>0</td>\n",
              "      <td>0</td>\n",
              "      <td>1</td>\n",
              "      <td>0</td>\n",
              "      <td>0</td>\n",
              "      <td>1</td>\n",
              "      <td>0</td>\n",
              "    </tr>\n",
              "    <tr>\n",
              "      <th>1</th>\n",
              "      <td>1</td>\n",
              "      <td>6979.535903</td>\n",
              "      <td>0</td>\n",
              "      <td>8</td>\n",
              "      <td>1131.464935</td>\n",
              "      <td>13</td>\n",
              "      <td>0</td>\n",
              "      <td>1</td>\n",
              "      <td>0</td>\n",
              "      <td>0</td>\n",
              "      <td>0</td>\n",
              "      <td>0</td>\n",
              "      <td>1</td>\n",
              "      <td>0</td>\n",
              "      <td>1</td>\n",
              "      <td>0</td>\n",
              "      <td>0</td>\n",
              "      <td>1</td>\n",
              "    </tr>\n",
              "    <tr>\n",
              "      <th>2</th>\n",
              "      <td>2</td>\n",
              "      <td>12887.431650</td>\n",
              "      <td>48767</td>\n",
              "      <td>2</td>\n",
              "      <td>566.472247</td>\n",
              "      <td>18</td>\n",
              "      <td>0</td>\n",
              "      <td>1</td>\n",
              "      <td>0</td>\n",
              "      <td>1</td>\n",
              "      <td>0</td>\n",
              "      <td>0</td>\n",
              "      <td>0</td>\n",
              "      <td>0</td>\n",
              "      <td>1</td>\n",
              "      <td>0</td>\n",
              "      <td>1</td>\n",
              "      <td>0</td>\n",
              "    </tr>\n",
              "    <tr>\n",
              "      <th>3</th>\n",
              "      <td>3</td>\n",
              "      <td>7645.861827</td>\n",
              "      <td>0</td>\n",
              "      <td>7</td>\n",
              "      <td>529.881344</td>\n",
              "      <td>18</td>\n",
              "      <td>0</td>\n",
              "      <td>1</td>\n",
              "      <td>1</td>\n",
              "      <td>0</td>\n",
              "      <td>0</td>\n",
              "      <td>0</td>\n",
              "      <td>1</td>\n",
              "      <td>1</td>\n",
              "      <td>0</td>\n",
              "      <td>0</td>\n",
              "      <td>1</td>\n",
              "      <td>0</td>\n",
              "    </tr>\n",
              "    <tr>\n",
              "      <th>4</th>\n",
              "      <td>4</td>\n",
              "      <td>2813.692575</td>\n",
              "      <td>43836</td>\n",
              "      <td>1</td>\n",
              "      <td>138.130879</td>\n",
              "      <td>12</td>\n",
              "      <td>0</td>\n",
              "      <td>1</td>\n",
              "      <td>1</td>\n",
              "      <td>1</td>\n",
              "      <td>0</td>\n",
              "      <td>0</td>\n",
              "      <td>0</td>\n",
              "      <td>0</td>\n",
              "      <td>1</td>\n",
              "      <td>0</td>\n",
              "      <td>0</td>\n",
              "      <td>1</td>\n",
              "    </tr>\n",
              "  </tbody>\n",
              "</table>\n",
              "</div>\n",
              "      <button class=\"colab-df-convert\" onclick=\"convertToInteractive('df-3c77fb11-dc4c-4d22-b89f-743ddfb44ca1')\"\n",
              "              title=\"Convert this dataframe to an interactive table.\"\n",
              "              style=\"display:none;\">\n",
              "        \n",
              "  <svg xmlns=\"http://www.w3.org/2000/svg\" height=\"24px\"viewBox=\"0 0 24 24\"\n",
              "       width=\"24px\">\n",
              "    <path d=\"M0 0h24v24H0V0z\" fill=\"none\"/>\n",
              "    <path d=\"M18.56 5.44l.94 2.06.94-2.06 2.06-.94-2.06-.94-.94-2.06-.94 2.06-2.06.94zm-11 1L8.5 8.5l.94-2.06 2.06-.94-2.06-.94L8.5 2.5l-.94 2.06-2.06.94zm10 10l.94 2.06.94-2.06 2.06-.94-2.06-.94-.94-2.06-.94 2.06-2.06.94z\"/><path d=\"M17.41 7.96l-1.37-1.37c-.4-.4-.92-.59-1.43-.59-.52 0-1.04.2-1.43.59L10.3 9.45l-7.72 7.72c-.78.78-.78 2.05 0 2.83L4 21.41c.39.39.9.59 1.41.59.51 0 1.02-.2 1.41-.59l7.78-7.78 2.81-2.81c.8-.78.8-2.07 0-2.86zM5.41 20L4 18.59l7.72-7.72 1.47 1.35L5.41 20z\"/>\n",
              "  </svg>\n",
              "      </button>\n",
              "      \n",
              "  <style>\n",
              "    .colab-df-container {\n",
              "      display:flex;\n",
              "      flex-wrap:wrap;\n",
              "      gap: 12px;\n",
              "    }\n",
              "\n",
              "    .colab-df-convert {\n",
              "      background-color: #E8F0FE;\n",
              "      border: none;\n",
              "      border-radius: 50%;\n",
              "      cursor: pointer;\n",
              "      display: none;\n",
              "      fill: #1967D2;\n",
              "      height: 32px;\n",
              "      padding: 0 0 0 0;\n",
              "      width: 32px;\n",
              "    }\n",
              "\n",
              "    .colab-df-convert:hover {\n",
              "      background-color: #E2EBFA;\n",
              "      box-shadow: 0px 1px 2px rgba(60, 64, 67, 0.3), 0px 1px 3px 1px rgba(60, 64, 67, 0.15);\n",
              "      fill: #174EA6;\n",
              "    }\n",
              "\n",
              "    [theme=dark] .colab-df-convert {\n",
              "      background-color: #3B4455;\n",
              "      fill: #D2E3FC;\n",
              "    }\n",
              "\n",
              "    [theme=dark] .colab-df-convert:hover {\n",
              "      background-color: #434B5C;\n",
              "      box-shadow: 0px 1px 3px 1px rgba(0, 0, 0, 0.15);\n",
              "      filter: drop-shadow(0px 1px 2px rgba(0, 0, 0, 0.3));\n",
              "      fill: #FFFFFF;\n",
              "    }\n",
              "  </style>\n",
              "\n",
              "      <script>\n",
              "        const buttonEl =\n",
              "          document.querySelector('#df-3c77fb11-dc4c-4d22-b89f-743ddfb44ca1 button.colab-df-convert');\n",
              "        buttonEl.style.display =\n",
              "          google.colab.kernel.accessAllowed ? 'block' : 'none';\n",
              "\n",
              "        async function convertToInteractive(key) {\n",
              "          const element = document.querySelector('#df-3c77fb11-dc4c-4d22-b89f-743ddfb44ca1');\n",
              "          const dataTable =\n",
              "            await google.colab.kernel.invokeFunction('convertToInteractive',\n",
              "                                                     [key], {});\n",
              "          if (!dataTable) return;\n",
              "\n",
              "          const docLinkHtml = 'Like what you see? Visit the ' +\n",
              "            '<a target=\"_blank\" href=https://colab.research.google.com/notebooks/data_table.ipynb>data table notebook</a>'\n",
              "            + ' to learn more about interactive tables.';\n",
              "          element.innerHTML = '';\n",
              "          dataTable['output_type'] = 'display_data';\n",
              "          await google.colab.output.renderOutput(dataTable, element);\n",
              "          const docLink = document.createElement('div');\n",
              "          docLink.innerHTML = docLinkHtml;\n",
              "          element.appendChild(docLink);\n",
              "        }\n",
              "      </script>\n",
              "    </div>\n",
              "  </div>\n",
              "  "
            ]
          },
          "metadata": {},
          "execution_count": 5
        }
      ]
    },
    {
      "cell_type": "code",
      "source": [
        "\n"
      ],
      "metadata": {
        "id": "uCTBr9OjWIEq"
      },
      "execution_count": 5,
      "outputs": []
    },
    {
      "cell_type": "code",
      "source": [
        "X = df.drop([\"Unnamed: 0\", \"Customer Lifetime Value\"], axis = 1)\n",
        "y = df['Customer Lifetime Value']"
      ],
      "metadata": {
        "id": "9hfSckvYW4NN"
      },
      "execution_count": 6,
      "outputs": []
    },
    {
      "cell_type": "code",
      "source": [],
      "metadata": {
        "id": "1bzkFslvWGtz"
      },
      "execution_count": 6,
      "outputs": []
    },
    {
      "cell_type": "code",
      "source": [
        "from sklearn.model_selection import train_test_split\n",
        "X_train, X_test, y_train, y_test = train_test_split(X, y, test_size = .3)"
      ],
      "metadata": {
        "id": "5X3GlNZqyAfL"
      },
      "execution_count": 7,
      "outputs": []
    },
    {
      "cell_type": "code",
      "source": [
        "from sklearn.preprocessing import StandardScaler"
      ],
      "metadata": {
        "id": "BaX5ur0GyAh6"
      },
      "execution_count": 8,
      "outputs": []
    },
    {
      "cell_type": "code",
      "source": [
        "scaler = StandardScaler()\n",
        "X_train = scaler.fit_transform(X_train)\n",
        "X_test = scaler.transform(X_test)"
      ],
      "metadata": {
        "id": "BJmAsFM1TRFA"
      },
      "execution_count": 9,
      "outputs": []
    },
    {
      "cell_type": "markdown",
      "source": [
        "# 2.) Run a GridSearch CV on at least 10 possible combinations of hyper parameters "
      ],
      "metadata": {
        "id": "OacsID8kTRvk"
      }
    },
    {
      "cell_type": "code",
      "source": [
        "from sklearn.neural_network import MLPRegressor\n",
        "from sklearn.model_selection import GridSearchCV"
      ],
      "metadata": {
        "id": "8WKQg4bxTq1-"
      },
      "execution_count": 10,
      "outputs": []
    },
    {
      "cell_type": "code",
      "source": [
        "clf = MLPRegressor"
      ],
      "metadata": {
        "id": "7n4F6kC5Tq5J"
      },
      "execution_count": 11,
      "outputs": []
    },
    {
      "cell_type": "code",
      "source": [
        "MLPRegressor?"
      ],
      "metadata": {
        "id": "8bKwBQaJoWv4"
      },
      "execution_count": 12,
      "outputs": []
    },
    {
      "cell_type": "code",
      "source": [
        "clf = MLPRegressor()\n",
        "\n",
        "params = {\n",
        "    \"hidden_layer_sizes\": [(10,), (20,5,),(5,), (10,), (15,)], \n",
        "    \"activation\" : ['relu','logistic']\n",
        "}"
      ],
      "metadata": {
        "id": "ICyRhCbWoaT6"
      },
      "execution_count": 13,
      "outputs": []
    },
    {
      "cell_type": "code",
      "source": [
        "grid = GridSearchCV(clf, params, cv = 5)\n",
        "grid.fit(X_train, y_train)"
      ],
      "metadata": {
        "id": "Z_u4wuoOoTro",
        "colab": {
          "base_uri": "https://localhost:8080/"
        },
        "outputId": "618ae807-f234-4041-a166-3778127e9605"
      },
      "execution_count": 14,
      "outputs": [
        {
          "output_type": "stream",
          "name": "stderr",
          "text": [
            "/usr/local/lib/python3.8/dist-packages/sklearn/neural_network/_multilayer_perceptron.py:692: ConvergenceWarning: Stochastic Optimizer: Maximum iterations (200) reached and the optimization hasn't converged yet.\n",
            "  warnings.warn(\n",
            "/usr/local/lib/python3.8/dist-packages/sklearn/neural_network/_multilayer_perceptron.py:692: ConvergenceWarning: Stochastic Optimizer: Maximum iterations (200) reached and the optimization hasn't converged yet.\n",
            "  warnings.warn(\n",
            "/usr/local/lib/python3.8/dist-packages/sklearn/neural_network/_multilayer_perceptron.py:692: ConvergenceWarning: Stochastic Optimizer: Maximum iterations (200) reached and the optimization hasn't converged yet.\n",
            "  warnings.warn(\n",
            "/usr/local/lib/python3.8/dist-packages/sklearn/neural_network/_multilayer_perceptron.py:692: ConvergenceWarning: Stochastic Optimizer: Maximum iterations (200) reached and the optimization hasn't converged yet.\n",
            "  warnings.warn(\n",
            "/usr/local/lib/python3.8/dist-packages/sklearn/neural_network/_multilayer_perceptron.py:692: ConvergenceWarning: Stochastic Optimizer: Maximum iterations (200) reached and the optimization hasn't converged yet.\n",
            "  warnings.warn(\n",
            "/usr/local/lib/python3.8/dist-packages/sklearn/neural_network/_multilayer_perceptron.py:692: ConvergenceWarning: Stochastic Optimizer: Maximum iterations (200) reached and the optimization hasn't converged yet.\n",
            "  warnings.warn(\n",
            "/usr/local/lib/python3.8/dist-packages/sklearn/neural_network/_multilayer_perceptron.py:692: ConvergenceWarning: Stochastic Optimizer: Maximum iterations (200) reached and the optimization hasn't converged yet.\n",
            "  warnings.warn(\n",
            "/usr/local/lib/python3.8/dist-packages/sklearn/neural_network/_multilayer_perceptron.py:692: ConvergenceWarning: Stochastic Optimizer: Maximum iterations (200) reached and the optimization hasn't converged yet.\n",
            "  warnings.warn(\n",
            "/usr/local/lib/python3.8/dist-packages/sklearn/neural_network/_multilayer_perceptron.py:692: ConvergenceWarning: Stochastic Optimizer: Maximum iterations (200) reached and the optimization hasn't converged yet.\n",
            "  warnings.warn(\n",
            "/usr/local/lib/python3.8/dist-packages/sklearn/neural_network/_multilayer_perceptron.py:692: ConvergenceWarning: Stochastic Optimizer: Maximum iterations (200) reached and the optimization hasn't converged yet.\n",
            "  warnings.warn(\n",
            "/usr/local/lib/python3.8/dist-packages/sklearn/neural_network/_multilayer_perceptron.py:692: ConvergenceWarning: Stochastic Optimizer: Maximum iterations (200) reached and the optimization hasn't converged yet.\n",
            "  warnings.warn(\n",
            "/usr/local/lib/python3.8/dist-packages/sklearn/neural_network/_multilayer_perceptron.py:692: ConvergenceWarning: Stochastic Optimizer: Maximum iterations (200) reached and the optimization hasn't converged yet.\n",
            "  warnings.warn(\n",
            "/usr/local/lib/python3.8/dist-packages/sklearn/neural_network/_multilayer_perceptron.py:692: ConvergenceWarning: Stochastic Optimizer: Maximum iterations (200) reached and the optimization hasn't converged yet.\n",
            "  warnings.warn(\n",
            "/usr/local/lib/python3.8/dist-packages/sklearn/neural_network/_multilayer_perceptron.py:692: ConvergenceWarning: Stochastic Optimizer: Maximum iterations (200) reached and the optimization hasn't converged yet.\n",
            "  warnings.warn(\n",
            "/usr/local/lib/python3.8/dist-packages/sklearn/neural_network/_multilayer_perceptron.py:692: ConvergenceWarning: Stochastic Optimizer: Maximum iterations (200) reached and the optimization hasn't converged yet.\n",
            "  warnings.warn(\n",
            "/usr/local/lib/python3.8/dist-packages/sklearn/neural_network/_multilayer_perceptron.py:692: ConvergenceWarning: Stochastic Optimizer: Maximum iterations (200) reached and the optimization hasn't converged yet.\n",
            "  warnings.warn(\n",
            "/usr/local/lib/python3.8/dist-packages/sklearn/neural_network/_multilayer_perceptron.py:692: ConvergenceWarning: Stochastic Optimizer: Maximum iterations (200) reached and the optimization hasn't converged yet.\n",
            "  warnings.warn(\n",
            "/usr/local/lib/python3.8/dist-packages/sklearn/neural_network/_multilayer_perceptron.py:692: ConvergenceWarning: Stochastic Optimizer: Maximum iterations (200) reached and the optimization hasn't converged yet.\n",
            "  warnings.warn(\n",
            "/usr/local/lib/python3.8/dist-packages/sklearn/neural_network/_multilayer_perceptron.py:692: ConvergenceWarning: Stochastic Optimizer: Maximum iterations (200) reached and the optimization hasn't converged yet.\n",
            "  warnings.warn(\n",
            "/usr/local/lib/python3.8/dist-packages/sklearn/neural_network/_multilayer_perceptron.py:692: ConvergenceWarning: Stochastic Optimizer: Maximum iterations (200) reached and the optimization hasn't converged yet.\n",
            "  warnings.warn(\n",
            "/usr/local/lib/python3.8/dist-packages/sklearn/neural_network/_multilayer_perceptron.py:692: ConvergenceWarning: Stochastic Optimizer: Maximum iterations (200) reached and the optimization hasn't converged yet.\n",
            "  warnings.warn(\n",
            "/usr/local/lib/python3.8/dist-packages/sklearn/neural_network/_multilayer_perceptron.py:692: ConvergenceWarning: Stochastic Optimizer: Maximum iterations (200) reached and the optimization hasn't converged yet.\n",
            "  warnings.warn(\n",
            "/usr/local/lib/python3.8/dist-packages/sklearn/neural_network/_multilayer_perceptron.py:692: ConvergenceWarning: Stochastic Optimizer: Maximum iterations (200) reached and the optimization hasn't converged yet.\n",
            "  warnings.warn(\n",
            "/usr/local/lib/python3.8/dist-packages/sklearn/neural_network/_multilayer_perceptron.py:692: ConvergenceWarning: Stochastic Optimizer: Maximum iterations (200) reached and the optimization hasn't converged yet.\n",
            "  warnings.warn(\n",
            "/usr/local/lib/python3.8/dist-packages/sklearn/neural_network/_multilayer_perceptron.py:692: ConvergenceWarning: Stochastic Optimizer: Maximum iterations (200) reached and the optimization hasn't converged yet.\n",
            "  warnings.warn(\n",
            "/usr/local/lib/python3.8/dist-packages/sklearn/neural_network/_multilayer_perceptron.py:692: ConvergenceWarning: Stochastic Optimizer: Maximum iterations (200) reached and the optimization hasn't converged yet.\n",
            "  warnings.warn(\n",
            "/usr/local/lib/python3.8/dist-packages/sklearn/neural_network/_multilayer_perceptron.py:692: ConvergenceWarning: Stochastic Optimizer: Maximum iterations (200) reached and the optimization hasn't converged yet.\n",
            "  warnings.warn(\n",
            "/usr/local/lib/python3.8/dist-packages/sklearn/neural_network/_multilayer_perceptron.py:692: ConvergenceWarning: Stochastic Optimizer: Maximum iterations (200) reached and the optimization hasn't converged yet.\n",
            "  warnings.warn(\n",
            "/usr/local/lib/python3.8/dist-packages/sklearn/neural_network/_multilayer_perceptron.py:692: ConvergenceWarning: Stochastic Optimizer: Maximum iterations (200) reached and the optimization hasn't converged yet.\n",
            "  warnings.warn(\n",
            "/usr/local/lib/python3.8/dist-packages/sklearn/neural_network/_multilayer_perceptron.py:692: ConvergenceWarning: Stochastic Optimizer: Maximum iterations (200) reached and the optimization hasn't converged yet.\n",
            "  warnings.warn(\n",
            "/usr/local/lib/python3.8/dist-packages/sklearn/neural_network/_multilayer_perceptron.py:692: ConvergenceWarning: Stochastic Optimizer: Maximum iterations (200) reached and the optimization hasn't converged yet.\n",
            "  warnings.warn(\n",
            "/usr/local/lib/python3.8/dist-packages/sklearn/neural_network/_multilayer_perceptron.py:692: ConvergenceWarning: Stochastic Optimizer: Maximum iterations (200) reached and the optimization hasn't converged yet.\n",
            "  warnings.warn(\n",
            "/usr/local/lib/python3.8/dist-packages/sklearn/neural_network/_multilayer_perceptron.py:692: ConvergenceWarning: Stochastic Optimizer: Maximum iterations (200) reached and the optimization hasn't converged yet.\n",
            "  warnings.warn(\n",
            "/usr/local/lib/python3.8/dist-packages/sklearn/neural_network/_multilayer_perceptron.py:692: ConvergenceWarning: Stochastic Optimizer: Maximum iterations (200) reached and the optimization hasn't converged yet.\n",
            "  warnings.warn(\n",
            "/usr/local/lib/python3.8/dist-packages/sklearn/neural_network/_multilayer_perceptron.py:692: ConvergenceWarning: Stochastic Optimizer: Maximum iterations (200) reached and the optimization hasn't converged yet.\n",
            "  warnings.warn(\n",
            "/usr/local/lib/python3.8/dist-packages/sklearn/neural_network/_multilayer_perceptron.py:692: ConvergenceWarning: Stochastic Optimizer: Maximum iterations (200) reached and the optimization hasn't converged yet.\n",
            "  warnings.warn(\n",
            "/usr/local/lib/python3.8/dist-packages/sklearn/neural_network/_multilayer_perceptron.py:692: ConvergenceWarning: Stochastic Optimizer: Maximum iterations (200) reached and the optimization hasn't converged yet.\n",
            "  warnings.warn(\n",
            "/usr/local/lib/python3.8/dist-packages/sklearn/neural_network/_multilayer_perceptron.py:692: ConvergenceWarning: Stochastic Optimizer: Maximum iterations (200) reached and the optimization hasn't converged yet.\n",
            "  warnings.warn(\n",
            "/usr/local/lib/python3.8/dist-packages/sklearn/neural_network/_multilayer_perceptron.py:692: ConvergenceWarning: Stochastic Optimizer: Maximum iterations (200) reached and the optimization hasn't converged yet.\n",
            "  warnings.warn(\n",
            "/usr/local/lib/python3.8/dist-packages/sklearn/neural_network/_multilayer_perceptron.py:692: ConvergenceWarning: Stochastic Optimizer: Maximum iterations (200) reached and the optimization hasn't converged yet.\n",
            "  warnings.warn(\n",
            "/usr/local/lib/python3.8/dist-packages/sklearn/neural_network/_multilayer_perceptron.py:692: ConvergenceWarning: Stochastic Optimizer: Maximum iterations (200) reached and the optimization hasn't converged yet.\n",
            "  warnings.warn(\n",
            "/usr/local/lib/python3.8/dist-packages/sklearn/neural_network/_multilayer_perceptron.py:692: ConvergenceWarning: Stochastic Optimizer: Maximum iterations (200) reached and the optimization hasn't converged yet.\n",
            "  warnings.warn(\n",
            "/usr/local/lib/python3.8/dist-packages/sklearn/neural_network/_multilayer_perceptron.py:692: ConvergenceWarning: Stochastic Optimizer: Maximum iterations (200) reached and the optimization hasn't converged yet.\n",
            "  warnings.warn(\n",
            "/usr/local/lib/python3.8/dist-packages/sklearn/neural_network/_multilayer_perceptron.py:692: ConvergenceWarning: Stochastic Optimizer: Maximum iterations (200) reached and the optimization hasn't converged yet.\n",
            "  warnings.warn(\n",
            "/usr/local/lib/python3.8/dist-packages/sklearn/neural_network/_multilayer_perceptron.py:692: ConvergenceWarning: Stochastic Optimizer: Maximum iterations (200) reached and the optimization hasn't converged yet.\n",
            "  warnings.warn(\n",
            "/usr/local/lib/python3.8/dist-packages/sklearn/neural_network/_multilayer_perceptron.py:692: ConvergenceWarning: Stochastic Optimizer: Maximum iterations (200) reached and the optimization hasn't converged yet.\n",
            "  warnings.warn(\n",
            "/usr/local/lib/python3.8/dist-packages/sklearn/neural_network/_multilayer_perceptron.py:692: ConvergenceWarning: Stochastic Optimizer: Maximum iterations (200) reached and the optimization hasn't converged yet.\n",
            "  warnings.warn(\n",
            "/usr/local/lib/python3.8/dist-packages/sklearn/neural_network/_multilayer_perceptron.py:692: ConvergenceWarning: Stochastic Optimizer: Maximum iterations (200) reached and the optimization hasn't converged yet.\n",
            "  warnings.warn(\n",
            "/usr/local/lib/python3.8/dist-packages/sklearn/neural_network/_multilayer_perceptron.py:692: ConvergenceWarning: Stochastic Optimizer: Maximum iterations (200) reached and the optimization hasn't converged yet.\n",
            "  warnings.warn(\n",
            "/usr/local/lib/python3.8/dist-packages/sklearn/neural_network/_multilayer_perceptron.py:692: ConvergenceWarning: Stochastic Optimizer: Maximum iterations (200) reached and the optimization hasn't converged yet.\n",
            "  warnings.warn(\n",
            "/usr/local/lib/python3.8/dist-packages/sklearn/neural_network/_multilayer_perceptron.py:692: ConvergenceWarning: Stochastic Optimizer: Maximum iterations (200) reached and the optimization hasn't converged yet.\n",
            "  warnings.warn(\n"
          ]
        },
        {
          "output_type": "execute_result",
          "data": {
            "text/plain": [
              "GridSearchCV(cv=5, estimator=MLPRegressor(),\n",
              "             param_grid={'activation': ['relu', 'logistic'],\n",
              "                         'hidden_layer_sizes': [(10,), (20, 5), (5,), (10,),\n",
              "                                                (15,)]})"
            ]
          },
          "metadata": {},
          "execution_count": 14
        }
      ]
    },
    {
      "cell_type": "code",
      "source": [
        "print(grid.best_params_)"
      ],
      "metadata": {
        "id": "ku4ITwdbrZdF",
        "colab": {
          "base_uri": "https://localhost:8080/"
        },
        "outputId": "078af755-75c8-4578-f722-096b1d90ed61"
      },
      "execution_count": 15,
      "outputs": [
        {
          "output_type": "stream",
          "name": "stdout",
          "text": [
            "{'activation': 'relu', 'hidden_layer_sizes': (20, 5)}\n"
          ]
        }
      ]
    },
    {
      "cell_type": "markdown",
      "source": [
        "# 3.) Train a model with the optimal solution from GridSearch"
      ],
      "metadata": {
        "id": "DKNdxiyOTsOE"
      }
    },
    {
      "cell_type": "code",
      "source": [
        "MLPRegressor(**grid.best_params_)"
      ],
      "metadata": {
        "id": "tlySuJN1ULTl",
        "colab": {
          "base_uri": "https://localhost:8080/"
        },
        "outputId": "9a89b4a6-2719-42d7-d1d9-ad62920e71a7"
      },
      "execution_count": 16,
      "outputs": [
        {
          "output_type": "execute_result",
          "data": {
            "text/plain": [
              "MLPRegressor(hidden_layer_sizes=(20, 5))"
            ]
          },
          "metadata": {},
          "execution_count": 16
        }
      ]
    },
    {
      "cell_type": "code",
      "source": [
        "MLPRegressor(hidden_layer_sizes = (20, 5), \n",
        "             activation = \"relu\")"
      ],
      "metadata": {
        "id": "sfbnPTe5Tq_9",
        "colab": {
          "base_uri": "https://localhost:8080/"
        },
        "outputId": "e4ed54c2-3e17-4b32-9d39-c85716c1f2c8"
      },
      "execution_count": 26,
      "outputs": [
        {
          "output_type": "execute_result",
          "data": {
            "text/plain": [
              "MLPRegressor(hidden_layer_sizes=(20, 5))"
            ]
          },
          "metadata": {},
          "execution_count": 26
        }
      ]
    },
    {
      "cell_type": "code",
      "source": [
        "grid.best_params_[\"hidden_layer_sizes\"]"
      ],
      "metadata": {
        "colab": {
          "base_uri": "https://localhost:8080/"
        },
        "id": "76QOScLG6tRW",
        "outputId": "0c5a848f-9526-452d-f02d-cbc771da08a7"
      },
      "execution_count": 33,
      "outputs": [
        {
          "output_type": "execute_result",
          "data": {
            "text/plain": [
              "(20, 5)"
            ]
          },
          "metadata": {},
          "execution_count": 33
        }
      ]
    },
    {
      "cell_type": "markdown",
      "source": [
        "# 4.) What are the in-sample and out of sample MSEs"
      ],
      "metadata": {
        "id": "qTPkbSDwT0nO"
      }
    },
    {
      "cell_type": "code",
      "source": [
        "from sklearn.linear_model import LinearRegression\n",
        "from sklearn.metrics import mean_squared_error\n",
        "from sklearn.model_selection import train_test_split\n",
        "import numpy as np\n",
        "\n",
        "lr = LinearRegression()\n",
        "lr.fit(X_train, y_train)\n",
        "\n",
        "y_pred_train = lr.predict(X_train)\n",
        "in_sample_mse = mean_squared_error(y_train, y_pred_train)\n",
        "\n",
        "y_pred_test = lr.predict(X_test)\n",
        "out_of_sample_mse = mean_squared_error(y_test, y_pred_test)\n",
        "\n",
        "print(\"In-sample MSE: \", in_sample_mse)\n",
        "print(\"Out-of-sample MSE: \", out_of_sample_mse)"
      ],
      "metadata": {
        "id": "2KuP_O-uJFg0",
        "colab": {
          "base_uri": "https://localhost:8080/"
        },
        "outputId": "e61cca24-6f10-4aaf-c637-6439a08ead5c"
      },
      "execution_count": 18,
      "outputs": [
        {
          "output_type": "stream",
          "name": "stdout",
          "text": [
            "In-sample MSE:  42797085.2937791\n",
            "Out-of-sample MSE:  46027223.52074548\n"
          ]
        }
      ]
    },
    {
      "cell_type": "code",
      "source": [],
      "metadata": {
        "id": "RjTa3ShN_edU"
      },
      "execution_count": 18,
      "outputs": []
    },
    {
      "cell_type": "code",
      "source": [],
      "metadata": {
        "id": "xd2PAQ3e_egK"
      },
      "execution_count": 18,
      "outputs": []
    },
    {
      "cell_type": "markdown",
      "source": [
        "# 5.) Build a Keras with the architecture defined by GridSearchCV"
      ],
      "metadata": {
        "id": "YVQ1PvBK_ev0"
      }
    },
    {
      "cell_type": "code",
      "source": [
        "from keras.models import Sequential\n",
        "from keras.layers import Dense\n",
        "\n",
        "model = Sequential()\n",
        "model.add(Dense(units = grid.best_params_[\"hidden_layer_sizes\"][0], activation=grid.best_params_['activation'], input_dim = X_train.shape[1]))\n",
        "for i in grid.best_params_[\"hidden_layer_sizes\"][1:]:\n",
        "    model.add(Dense(units = i, activation=grid.best_params_[\"activation\"]))\n",
        "\n",
        "model.add(Dense(units = 1))\n",
        "\n",
        "model.compile(optimizer='adam',loss = 'mean_squared_error')\n"
      ],
      "metadata": {
        "id": "AsyAVFQFvxKi"
      },
      "execution_count": 39,
      "outputs": []
    },
    {
      "cell_type": "markdown",
      "source": [
        "# 6.) Make two visualizations of your NN using “plot_model” and “ann_viz”"
      ],
      "metadata": {
        "id": "NirfWMLxOe-P"
      }
    },
    {
      "cell_type": "code",
      "source": [
        "pip install ann_visualizer"
      ],
      "metadata": {
        "colab": {
          "base_uri": "https://localhost:8080/"
        },
        "id": "naM1dRZDwtW3",
        "outputId": "cf7ae9bf-cabc-4f0a-f473-abfc1f08ae8a"
      },
      "execution_count": 20,
      "outputs": [
        {
          "output_type": "stream",
          "name": "stdout",
          "text": [
            "Looking in indexes: https://pypi.org/simple, https://us-python.pkg.dev/colab-wheels/public/simple/\n",
            "Requirement already satisfied: ann_visualizer in /usr/local/lib/python3.8/dist-packages (2.5)\n"
          ]
        }
      ]
    },
    {
      "cell_type": "code",
      "source": [
        "pip install --upgrade graphviz pydot pydotplus\n"
      ],
      "metadata": {
        "colab": {
          "base_uri": "https://localhost:8080/"
        },
        "id": "T0ep7lzox805",
        "outputId": "7f6739ae-ca6e-4e58-bbd4-dffa652f294f"
      },
      "execution_count": 21,
      "outputs": [
        {
          "output_type": "stream",
          "name": "stdout",
          "text": [
            "Looking in indexes: https://pypi.org/simple, https://us-python.pkg.dev/colab-wheels/public/simple/\n",
            "Requirement already satisfied: graphviz in /usr/local/lib/python3.8/dist-packages (0.20.1)\n",
            "Requirement already satisfied: pydot in /usr/local/lib/python3.8/dist-packages (1.4.2)\n",
            "Requirement already satisfied: pydotplus in /usr/local/lib/python3.8/dist-packages (2.0.2)\n",
            "Requirement already satisfied: pyparsing>=2.1.4 in /usr/local/lib/python3.8/dist-packages (from pydot) (3.0.9)\n"
          ]
        }
      ]
    },
    {
      "cell_type": "code",
      "source": [
        "from keras.utils import plot_model\n",
        "from ann_visualizer.visualize import ann_viz"
      ],
      "metadata": {
        "id": "niIr3y6zwj84"
      },
      "execution_count": 22,
      "outputs": []
    },
    {
      "cell_type": "code",
      "source": [
        "plot_model(model, to_file='model_plot.png', show_shapes=True, show_layer_names=True)"
      ],
      "metadata": {
        "id": "yET3XQYSOiq_",
        "colab": {
          "base_uri": "https://localhost:8080/",
          "height": 422
        },
        "outputId": "6a2965d7-5850-4833-ac7d-3fc8264dd822"
      },
      "execution_count": 40,
      "outputs": [
        {
          "output_type": "execute_result",
          "data": {
            "image/png": "[encoded data removed]",
            "text/plain": [
              "<IPython.core.display.Image object>"
            ]
          },
          "metadata": {},
          "execution_count": 40
        }
      ]
    },
    {
      "cell_type": "code",
      "source": [
        "ann_viz(model, title=\"My_Neural_Network\", view=True)"
      ],
      "metadata": {
        "id": "EkAI6lrlOiti"
      },
      "execution_count": 50,
      "outputs": []
    },
    {
      "cell_type": "code",
      "source": [
        "import graphviz"
      ],
      "metadata": {
        "id": "doPkXgyY-GLi"
      },
      "execution_count": 60,
      "outputs": []
    },
    {
      "cell_type": "code",
      "source": [
        "ann_viz(model,filename='1',title='Artificial Neuron')\n",
        "graph_file = graphviz.Source.from_file('1')\n",
        "graph_file"
      ],
      "metadata": {
        "id": "VtFLNv7iOiwq",
        "colab": {
          "base_uri": "https://localhost:8080/",
          "height": 1000
        },
        "outputId": "be041e70-ccaa-43c2-fed3-0ae6438aef80"
      },
      "execution_count": 66,
      "outputs": [
        {
          "output_type": "execute_result",
          "data": {
            "image/svg+xml": "<?xml version=\"1.0\" encoding=\"UTF-8\" standalone=\"no\"?>\n<!DOCTYPE svg PUBLIC \"-//W3C//DTD SVG 1.1//EN\"\n \"http://www.w3.org/Graphics/SVG/1.1/DTD/svg11.dtd\">\n<!-- Generated by graphviz version 2.43.0 (0)\n -->\n<!-- Title: g Pages: 1 -->\n<svg width=\"1077pt\" height=\"737pt\"\n viewBox=\"0.00 0.00 1077.00 736.99\" xmlns=\"http://www.w3.org/2000/svg\" xmlns:xlink=\"http://www.w3.org/1999/xlink\">\n<g id=\"graph0\" class=\"graph\" transform=\"scale(1 1) rotate(0) translate(4 732.99)\">\n<title>g</title>\n<polygon fill=\"white\" stroke=\"transparent\" points=\"-4,4 -4,-732.99 1073,-732.99 1073,4 -4,4\"/>\n<g id=\"clust1\" class=\"cluster\">\n<title>cluster_input</title>\n<polygon fill=\"none\" stroke=\"white\" points=\"22,-579.99 22,-720.99 1048,-720.99 1048,-579.99 22,-579.99\"/>\n<text text-anchor=\"middle\" x=\"535\" y=\"-705.79\" font-family=\"Times,serif\" font-size=\"14.00\">Artificial Neuron</text>\n<text text-anchor=\"middle\" x=\"535\" y=\"-642.79\" font-family=\"Times,serif\" font-size=\"14.00\">Input Layer (+6)</text>\n</g>\n<g id=\"clust2\" class=\"cluster\">\n<title>cluster_1</title>\n<polygon fill=\"none\" stroke=\"white\" points=\"8,-373.99 8,-451.99 1061,-451.99 1061,-373.99 8,-373.99\"/>\n<text text-anchor=\"middle\" x=\"1035.5\" y=\"-381.79\" font-family=\"Times,serif\" font-size=\"14.00\"> (+10)</text>\n</g>\n<g id=\"clust3\" class=\"cluster\">\n<title>cluster_2</title>\n<polygon fill=\"none\" stroke=\"white\" points=\"285,-214 285,-268.99 783,-268.99 783,-214 285,-214\"/>\n</g>\n<g id=\"clust4\" class=\"cluster\">\n<title>cluster_output</title>\n<polygon fill=\"none\" stroke=\"white\" points=\"490,-8 490,-86 579,-86 579,-8 490,-8\"/>\n<text text-anchor=\"middle\" x=\"534.5\" y=\"-15.8\" font-family=\"Times,serif\" font-size=\"14.00\">Output Layer</text>\n</g>\n<!-- 1 -->\n<g id=\"node1\" class=\"node\">\n<title>1</title>\n<ellipse fill=\"#2ecc71\" stroke=\"#2ecc71\" cx=\"588\" cy=\"-607.49\" rx=\"18\" ry=\"18\"/>\n<text text-anchor=\"middle\" x=\"588\" y=\"-603.79\" font-family=\"Times,serif\" font-size=\"14.00\" fill=\"#2ecc71\">1</text>\n</g>\n<!-- 11 -->\n<g id=\"node11\" class=\"node\">\n<title>11</title>\n<ellipse fill=\"#3498db\" stroke=\"#3498db\" cx=\"146\" cy=\"-424.49\" rx=\"19.5\" ry=\"19.5\"/>\n<text text-anchor=\"middle\" x=\"146\" y=\"-420.79\" font-family=\"Times,serif\" font-size=\"14.00\" fill=\"#3498db\">11</text>\n</g>\n<!-- 1&#45;&gt;11 -->\n<g id=\"edge1\" class=\"edge\">\n<title>1&#45;&gt;11</title>\n<path fill=\"none\" stroke=\"#707070\" d=\"M571.48,-599.72C502.21,-571.36 235.45,-462.12 163.8,-432.78\"/>\n</g>\n<!-- 12 -->\n<g id=\"node12\" class=\"node\">\n<title>12</title>\n<ellipse fill=\"#3498db\" stroke=\"#3498db\" cx=\"35\" cy=\"-424.49\" rx=\"19.5\" ry=\"19.5\"/>\n<text text-anchor=\"middle\" x=\"35\" y=\"-420.79\" font-family=\"Times,serif\" font-size=\"14.00\" fill=\"#3498db\">12</text>\n</g>\n<!-- 1&#45;&gt;12 -->\n<g id=\"edge11\" class=\"edge\">\n<title>1&#45;&gt;12</title>\n<path fill=\"none\" stroke=\"#707070\" d=\"M571.15,-600.97C489.78,-574.34 138.04,-459.22 53.38,-431.51\"/>\n</g>\n<!-- 13 -->\n<g id=\"node13\" class=\"node\">\n<title>13</title>\n<ellipse fill=\"#3498db\" stroke=\"#3498db\" cx=\"1034\" cy=\"-424.49\" rx=\"19.5\" ry=\"19.5\"/>\n<text text-anchor=\"middle\" x=\"1034\" y=\"-420.79\" font-family=\"Times,serif\" font-size=\"14.00\" fill=\"#3498db\">13</text>\n</g>\n<!-- 1&#45;&gt;13 -->\n<g id=\"edge21\" class=\"edge\">\n<title>1&#45;&gt;13</title>\n<path fill=\"none\" stroke=\"#707070\" d=\"M604.4,-599.83C673.87,-571.64 943.56,-462.2 1016,-432.8\"/>\n</g>\n<!-- 14 -->\n<g id=\"node14\" class=\"node\">\n<title>14</title>\n<ellipse fill=\"#3498db\" stroke=\"#3498db\" cx=\"923\" cy=\"-424.49\" rx=\"19.5\" ry=\"19.5\"/>\n<text text-anchor=\"middle\" x=\"923\" y=\"-420.79\" font-family=\"Times,serif\" font-size=\"14.00\" fill=\"#3498db\">14</text>\n</g>\n<!-- 1&#45;&gt;14 -->\n<g id=\"edge31\" class=\"edge\">\n<title>1&#45;&gt;14</title>\n<path fill=\"none\" stroke=\"#707070\" d=\"M603.71,-598C659.59,-567.81 848.48,-465.75 906.14,-434.6\"/>\n</g>\n<!-- 15 -->\n<g id=\"node15\" class=\"node\">\n<title>15</title>\n<ellipse fill=\"#3498db\" stroke=\"#3498db\" cx=\"812\" cy=\"-424.49\" rx=\"19.5\" ry=\"19.5\"/>\n<text text-anchor=\"middle\" x=\"812\" y=\"-420.79\" font-family=\"Times,serif\" font-size=\"14.00\" fill=\"#3498db\">15</text>\n</g>\n<!-- 1&#45;&gt;15 -->\n<g id=\"edge41\" class=\"edge\">\n<title>1&#45;&gt;15</title>\n<path fill=\"none\" stroke=\"#707070\" d=\"M601.68,-595.44C641.28,-563.43 755.89,-470.83 797.06,-437.57\"/>\n</g>\n<!-- 16 -->\n<g id=\"node16\" class=\"node\">\n<title>16</title>\n<ellipse fill=\"#3498db\" stroke=\"#3498db\" cx=\"701\" cy=\"-424.49\" rx=\"19.5\" ry=\"19.5\"/>\n<text text-anchor=\"middle\" x=\"701\" y=\"-420.79\" font-family=\"Times,serif\" font-size=\"14.00\" fill=\"#3498db\">16</text>\n</g>\n<!-- 1&#45;&gt;16 -->\n<g id=\"edge51\" class=\"edge\">\n<title>1&#45;&gt;16</title>\n<path fill=\"none\" stroke=\"#707070\" d=\"M597.25,-591.68C618.23,-558.07 669.28,-476.29 690.98,-441.54\"/>\n</g>\n<!-- 17 -->\n<g id=\"node17\" class=\"node\">\n<title>17</title>\n<ellipse fill=\"#3498db\" stroke=\"#3498db\" cx=\"590\" cy=\"-424.49\" rx=\"19.5\" ry=\"19.5\"/>\n<text text-anchor=\"middle\" x=\"590\" y=\"-420.79\" font-family=\"Times,serif\" font-size=\"14.00\" fill=\"#3498db\">17</text>\n</g>\n<!-- 1&#45;&gt;17 -->\n<g id=\"edge61\" class=\"edge\">\n<title>1&#45;&gt;17</title>\n<path fill=\"none\" stroke=\"#707070\" d=\"M588.19,-589.46C588.56,-555.49 589.4,-479.55 589.79,-444.22\"/>\n</g>\n<!-- 18 -->\n<g id=\"node18\" class=\"node\">\n<title>18</title>\n<ellipse fill=\"#3498db\" stroke=\"#3498db\" cx=\"479\" cy=\"-424.49\" rx=\"19.5\" ry=\"19.5\"/>\n<text text-anchor=\"middle\" x=\"479\" y=\"-420.79\" font-family=\"Times,serif\" font-size=\"14.00\" fill=\"#3498db\">18</text>\n</g>\n<!-- 1&#45;&gt;18 -->\n<g id=\"edge71\" class=\"edge\">\n<title>1&#45;&gt;18</title>\n<path fill=\"none\" stroke=\"#707070\" d=\"M579.08,-591.68C558.84,-558.07 509.59,-476.29 488.67,-441.54\"/>\n</g>\n<!-- 19 -->\n<g id=\"node19\" class=\"node\">\n<title>19</title>\n<ellipse fill=\"#3498db\" stroke=\"#3498db\" cx=\"368\" cy=\"-424.49\" rx=\"19.5\" ry=\"19.5\"/>\n<text text-anchor=\"middle\" x=\"368\" y=\"-420.79\" font-family=\"Times,serif\" font-size=\"14.00\" fill=\"#3498db\">19</text>\n</g>\n<!-- 1&#45;&gt;19 -->\n<g id=\"edge81\" class=\"edge\">\n<title>1&#45;&gt;19</title>\n<path fill=\"none\" stroke=\"#707070\" d=\"M574.57,-595.44C535.67,-563.43 423.11,-470.83 382.68,-437.57\"/>\n</g>\n<!-- 20 -->\n<g id=\"node20\" class=\"node\">\n<title>20</title>\n<ellipse fill=\"#3498db\" stroke=\"#3498db\" cx=\"257\" cy=\"-424.49\" rx=\"19.5\" ry=\"19.5\"/>\n<text text-anchor=\"middle\" x=\"257\" y=\"-420.79\" font-family=\"Times,serif\" font-size=\"14.00\" fill=\"#3498db\">20</text>\n</g>\n<!-- 1&#45;&gt;20 -->\n<g id=\"edge91\" class=\"edge\">\n<title>1&#45;&gt;20</title>\n<path fill=\"none\" stroke=\"#707070\" d=\"M572.48,-598C517.39,-567.88 331.49,-466.23 274.05,-434.82\"/>\n</g>\n<!-- 2 -->\n<g id=\"node2\" class=\"node\">\n<title>2</title>\n<ellipse fill=\"#2ecc71\" stroke=\"#2ecc71\" cx=\"480\" cy=\"-607.49\" rx=\"18\" ry=\"18\"/>\n<text text-anchor=\"middle\" x=\"480\" y=\"-603.79\" font-family=\"Times,serif\" font-size=\"14.00\" fill=\"#2ecc71\">2</text>\n</g>\n<!-- 2&#45;&gt;11 -->\n<g id=\"edge2\" class=\"edge\">\n<title>2&#45;&gt;11</title>\n<path fill=\"none\" stroke=\"#707070\" d=\"M464.34,-598C408.62,-567.81 220.3,-465.75 162.81,-434.6\"/>\n</g>\n<!-- 2&#45;&gt;12 -->\n<g id=\"edge12\" class=\"edge\">\n<title>2&#45;&gt;12</title>\n<path fill=\"none\" stroke=\"#707070\" d=\"M463.63,-599.83C394.33,-571.64 125.24,-462.2 52.96,-432.8\"/>\n</g>\n<!-- 2&#45;&gt;13 -->\n<g id=\"edge22\" class=\"edge\">\n<title>2&#45;&gt;13</title>\n<path fill=\"none\" stroke=\"#707070\" d=\"M496.88,-600.97C578.39,-574.34 930.77,-459.22 1015.59,-431.51\"/>\n</g>\n<!-- 2&#45;&gt;14 -->\n<g id=\"edge32\" class=\"edge\">\n<title>2&#45;&gt;14</title>\n<path fill=\"none\" stroke=\"#707070\" d=\"M496.29,-599.83C565.29,-571.64 833.16,-462.2 905.12,-432.8\"/>\n</g>\n<!-- 2&#45;&gt;15 -->\n<g id=\"edge42\" class=\"edge\">\n<title>2&#45;&gt;15</title>\n<path fill=\"none\" stroke=\"#707070\" d=\"M495.57,-598C550.95,-567.81 738.15,-465.75 795.29,-434.6\"/>\n</g>\n<!-- 2&#45;&gt;16 -->\n<g id=\"edge52\" class=\"edge\">\n<title>2&#45;&gt;16</title>\n<path fill=\"none\" stroke=\"#707070\" d=\"M493.49,-595.44C532.57,-563.43 645.64,-470.83 686.26,-437.57\"/>\n</g>\n<!-- 2&#45;&gt;17 -->\n<g id=\"edge62\" class=\"edge\">\n<title>2&#45;&gt;17</title>\n<path fill=\"none\" stroke=\"#707070\" d=\"M489,-591.68C509.42,-558.07 559.13,-476.29 580.25,-441.54\"/>\n</g>\n<!-- 2&#45;&gt;18 -->\n<g id=\"edge72\" class=\"edge\">\n<title>2&#45;&gt;18</title>\n<path fill=\"none\" stroke=\"#707070\" d=\"M479.91,-589.46C479.72,-555.49 479.3,-479.55 479.1,-444.22\"/>\n</g>\n<!-- 2&#45;&gt;19 -->\n<g id=\"edge82\" class=\"edge\">\n<title>2&#45;&gt;19</title>\n<path fill=\"none\" stroke=\"#707070\" d=\"M470.83,-591.68C450.04,-558.07 399.44,-476.29 377.93,-441.54\"/>\n</g>\n<!-- 2&#45;&gt;20 -->\n<g id=\"edge92\" class=\"edge\">\n<title>2&#45;&gt;20</title>\n<path fill=\"none\" stroke=\"#707070\" d=\"M466.39,-595.44C426.95,-563.43 312.86,-470.83 271.88,-437.57\"/>\n</g>\n<!-- 3 -->\n<g id=\"node3\" class=\"node\">\n<title>3</title>\n<ellipse fill=\"#2ecc71\" stroke=\"#2ecc71\" cx=\"372\" cy=\"-607.49\" rx=\"18\" ry=\"18\"/>\n<text text-anchor=\"middle\" x=\"372\" y=\"-603.79\" font-family=\"Times,serif\" font-size=\"14.00\" fill=\"#2ecc71\">3</text>\n</g>\n<!-- 3&#45;&gt;11 -->\n<g id=\"edge3\" class=\"edge\">\n<title>3&#45;&gt;11</title>\n<path fill=\"none\" stroke=\"#707070\" d=\"M358.2,-595.44C318.14,-563.36 202.06,-470.39 160.78,-437.33\"/>\n</g>\n<!-- 3&#45;&gt;12 -->\n<g id=\"edge13\" class=\"edge\">\n<title>3&#45;&gt;12</title>\n<path fill=\"none\" stroke=\"#707070\" d=\"M356.2,-598C299.98,-567.81 109.97,-465.75 51.96,-434.6\"/>\n</g>\n<!-- 3&#45;&gt;13 -->\n<g id=\"edge23\" class=\"edge\">\n<title>3&#45;&gt;13</title>\n<path fill=\"none\" stroke=\"#707070\" d=\"M389.37,-601.74C482.19,-576.36 919.13,-456.9 1015.26,-430.61\"/>\n</g>\n<!-- 3&#45;&gt;14 -->\n<g id=\"edge33\" class=\"edge\">\n<title>3&#45;&gt;14</title>\n<path fill=\"none\" stroke=\"#707070\" d=\"M388.79,-600.97C469.86,-574.34 820.33,-459.22 904.69,-431.51\"/>\n</g>\n<!-- 3&#45;&gt;15 -->\n<g id=\"edge43\" class=\"edge\">\n<title>3&#45;&gt;15</title>\n<path fill=\"none\" stroke=\"#707070\" d=\"M388.45,-599.72C457.4,-571.36 722.96,-462.12 794.28,-432.78\"/>\n</g>\n<!-- 3&#45;&gt;16 -->\n<g id=\"edge53\" class=\"edge\">\n<title>3&#45;&gt;16</title>\n<path fill=\"none\" stroke=\"#707070\" d=\"M387.43,-598C442.18,-567.88 626.96,-466.23 684.05,-434.82\"/>\n</g>\n<!-- 3&#45;&gt;17 -->\n<g id=\"edge63\" class=\"edge\">\n<title>3&#45;&gt;17</title>\n<path fill=\"none\" stroke=\"#707070\" d=\"M385.64,-595.17C424.41,-562.97 535.09,-471.08 575.23,-437.75\"/>\n</g>\n<!-- 3&#45;&gt;18 -->\n<g id=\"edge73\" class=\"edge\">\n<title>3&#45;&gt;18</title>\n<path fill=\"none\" stroke=\"#707070\" d=\"M380.76,-591.68C400.62,-558.07 448.97,-476.29 469.51,-441.54\"/>\n</g>\n<!-- 3&#45;&gt;19 -->\n<g id=\"edge83\" class=\"edge\">\n<title>3&#45;&gt;19</title>\n<path fill=\"none\" stroke=\"#707070\" d=\"M371.62,-589.46C370.87,-555.49 369.19,-479.55 368.41,-444.22\"/>\n</g>\n<!-- 3&#45;&gt;20 -->\n<g id=\"edge93\" class=\"edge\">\n<title>3&#45;&gt;20</title>\n<path fill=\"none\" stroke=\"#707070\" d=\"M362.78,-591.98C341.52,-558.51 289.15,-476.1 267.08,-441.35\"/>\n</g>\n<!-- 4 -->\n<g id=\"node4\" class=\"node\">\n<title>4</title>\n<ellipse fill=\"#2ecc71\" stroke=\"#2ecc71\" cx=\"264\" cy=\"-607.49\" rx=\"18\" ry=\"18\"/>\n<text text-anchor=\"middle\" x=\"264\" y=\"-603.79\" font-family=\"Times,serif\" font-size=\"14.00\" fill=\"#2ecc71\">4</text>\n</g>\n<!-- 4&#45;&gt;11 -->\n<g id=\"edge4\" class=\"edge\">\n<title>4&#45;&gt;11</title>\n<path fill=\"none\" stroke=\"#707070\" d=\"M254.54,-591.98C232.72,-558.51 178.99,-476.1 156.34,-441.35\"/>\n</g>\n<!-- 4&#45;&gt;12 -->\n<g id=\"edge14\" class=\"edge\">\n<title>4&#45;&gt;12</title>\n<path fill=\"none\" stroke=\"#707070\" d=\"M250.36,-595.71C210.11,-563.9 92.04,-470.57 50.04,-437.38\"/>\n</g>\n<!-- 4&#45;&gt;13 -->\n<g id=\"edge24\" class=\"edge\">\n<title>4&#45;&gt;13</title>\n<path fill=\"none\" stroke=\"#707070\" d=\"M281.53,-602.37C384.39,-578.19 908.69,-454.95 1015.13,-429.93\"/>\n</g>\n<!-- 4&#45;&gt;14 -->\n<g id=\"edge34\" class=\"edge\">\n<title>4&#45;&gt;14</title>\n<path fill=\"none\" stroke=\"#707070\" d=\"M281.29,-601.74C373.69,-576.36 808.65,-456.9 904.35,-430.61\"/>\n</g>\n<!-- 4&#45;&gt;15 -->\n<g id=\"edge44\" class=\"edge\">\n<title>4&#45;&gt;15</title>\n<path fill=\"none\" stroke=\"#707070\" d=\"M281,-600.87C362.12,-574.08 709.33,-459.4 793.54,-431.59\"/>\n</g>\n<!-- 4&#45;&gt;16 -->\n<g id=\"edge54\" class=\"edge\">\n<title>4&#45;&gt;16</title>\n<path fill=\"none\" stroke=\"#707070\" d=\"M280.33,-599.72C348.67,-571.42 611.37,-462.61 682.92,-432.98\"/>\n</g>\n<!-- 4&#45;&gt;17 -->\n<g id=\"edge64\" class=\"edge\">\n<title>4&#45;&gt;17</title>\n<path fill=\"none\" stroke=\"#707070\" d=\"M279.72,-597.76C334.54,-567.32 516.94,-466.06 573.28,-434.78\"/>\n</g>\n<!-- 4&#45;&gt;18 -->\n<g id=\"edge74\" class=\"edge\">\n<title>4&#45;&gt;18</title>\n<path fill=\"none\" stroke=\"#707070\" d=\"M277.45,-595.17C315.69,-562.97 424.85,-471.08 464.43,-437.75\"/>\n</g>\n<!-- 4&#45;&gt;19 -->\n<g id=\"edge84\" class=\"edge\">\n<title>4&#45;&gt;19</title>\n<path fill=\"none\" stroke=\"#707070\" d=\"M272.69,-591.37C292.07,-557.64 338.7,-476.49 358.67,-441.73\"/>\n</g>\n<!-- 4&#45;&gt;20 -->\n<g id=\"edge94\" class=\"edge\">\n<title>4&#45;&gt;20</title>\n<path fill=\"none\" stroke=\"#707070\" d=\"M263.34,-589.46C262.03,-555.49 259.09,-479.55 257.72,-444.22\"/>\n</g>\n<!-- 5 -->\n<g id=\"node5\" class=\"node\">\n<title>5</title>\n<ellipse fill=\"#2ecc71\" stroke=\"#2ecc71\" cx=\"156\" cy=\"-607.49\" rx=\"18\" ry=\"18\"/>\n<text text-anchor=\"middle\" x=\"156\" y=\"-603.79\" font-family=\"Times,serif\" font-size=\"14.00\" fill=\"#2ecc71\">5</text>\n</g>\n<!-- 5&#45;&gt;11 -->\n<g id=\"edge5\" class=\"edge\">\n<title>5&#45;&gt;11</title>\n<path fill=\"none\" stroke=\"#707070\" d=\"M155.06,-589.46C153.18,-555.49 148.99,-479.55 147.03,-444.22\"/>\n</g>\n<!-- 5&#45;&gt;12 -->\n<g id=\"edge15\" class=\"edge\">\n<title>5&#45;&gt;12</title>\n<path fill=\"none\" stroke=\"#707070\" d=\"M146.3,-591.98C123.87,-558.43 68.55,-475.68 45.43,-441.09\"/>\n</g>\n<!-- 5&#45;&gt;13 -->\n<g id=\"edge25\" class=\"edge\">\n<title>5&#45;&gt;13</title>\n<path fill=\"none\" stroke=\"#707070\" d=\"M173.54,-602.87C285.44,-579.8 898.6,-453.4 1014.94,-429.42\"/>\n</g>\n<!-- 5&#45;&gt;14 -->\n<g id=\"edge35\" class=\"edge\">\n<title>5&#45;&gt;14</title>\n<path fill=\"none\" stroke=\"#707070\" d=\"M173.46,-602.37C275.92,-578.19 798.18,-454.95 904.21,-429.93\"/>\n</g>\n<!-- 5&#45;&gt;15 -->\n<g id=\"edge45\" class=\"edge\">\n<title>5&#45;&gt;15</title>\n<path fill=\"none\" stroke=\"#707070\" d=\"M173.21,-601.74C265.19,-576.36 698.17,-456.9 793.43,-430.61\"/>\n</g>\n<!-- 5&#45;&gt;16 -->\n<g id=\"edge55\" class=\"edge\">\n<title>5&#45;&gt;16</title>\n<path fill=\"none\" stroke=\"#707070\" d=\"M172.91,-600.87C253.58,-574.08 598.89,-459.4 682.65,-431.59\"/>\n</g>\n<!-- 5&#45;&gt;17 -->\n<g id=\"edge65\" class=\"edge\">\n<title>5&#45;&gt;17</title>\n<path fill=\"none\" stroke=\"#707070\" d=\"M172.48,-599.61C240.77,-571.14 501.17,-462.54 572.08,-432.96\"/>\n</g>\n<!-- 5&#45;&gt;18 -->\n<g id=\"edge75\" class=\"edge\">\n<title>5&#45;&gt;18</title>\n<path fill=\"none\" stroke=\"#707070\" d=\"M171.58,-597.76C225.89,-567.32 406.61,-466.06 462.43,-434.78\"/>\n</g>\n<!-- 5&#45;&gt;19 -->\n<g id=\"edge85\" class=\"edge\">\n<title>5&#45;&gt;19</title>\n<path fill=\"none\" stroke=\"#707070\" d=\"M169.26,-595.17C206.97,-562.97 314.6,-471.08 353.64,-437.75\"/>\n</g>\n<!-- 5&#45;&gt;20 -->\n<g id=\"edge95\" class=\"edge\">\n<title>5&#45;&gt;20</title>\n<path fill=\"none\" stroke=\"#707070\" d=\"M164.44,-591.37C183.21,-557.72 228.32,-476.89 247.79,-442\"/>\n</g>\n<!-- 6 -->\n<g id=\"node6\" class=\"node\">\n<title>6</title>\n<ellipse fill=\"#2ecc71\" stroke=\"#2ecc71\" cx=\"48\" cy=\"-607.49\" rx=\"18\" ry=\"18\"/>\n<text text-anchor=\"middle\" x=\"48\" y=\"-603.79\" font-family=\"Times,serif\" font-size=\"14.00\" fill=\"#2ecc71\">6</text>\n</g>\n<!-- 6&#45;&gt;11 -->\n<g id=\"edge6\" class=\"edge\">\n<title>6&#45;&gt;11</title>\n<path fill=\"none\" stroke=\"#707070\" d=\"M56.19,-591.37C74.4,-557.72 118.17,-476.89 137.06,-442\"/>\n</g>\n<!-- 6&#45;&gt;12 -->\n<g id=\"edge16\" class=\"edge\">\n<title>6&#45;&gt;12</title>\n<path fill=\"none\" stroke=\"#707070\" d=\"M46.78,-589.46C44.33,-555.4 38.85,-479.15 36.33,-443.95\"/>\n</g>\n<!-- 6&#45;&gt;13 -->\n<g id=\"edge26\" class=\"edge\">\n<title>6&#45;&gt;13</title>\n<path fill=\"none\" stroke=\"#707070\" d=\"M65.53,-603.27C185.93,-581.17 889.43,-452.03 1014.87,-429\"/>\n</g>\n<!-- 6&#45;&gt;14 -->\n<g id=\"edge36\" class=\"edge\">\n<title>6&#45;&gt;14</title>\n<path fill=\"none\" stroke=\"#707070\" d=\"M65.48,-602.87C177,-579.8 788.06,-453.4 904.01,-429.42\"/>\n</g>\n<!-- 6&#45;&gt;15 -->\n<g id=\"edge46\" class=\"edge\">\n<title>6&#45;&gt;15</title>\n<path fill=\"none\" stroke=\"#707070\" d=\"M65.39,-602.37C167.34,-578.21 686.54,-455.21 792.93,-430.01\"/>\n</g>\n<!-- 6&#45;&gt;16 -->\n<g id=\"edge56\" class=\"edge\">\n<title>6&#45;&gt;16</title>\n<path fill=\"none\" stroke=\"#707070\" d=\"M65.13,-601.74C156.59,-576.39 586.74,-457.16 682.2,-430.7\"/>\n</g>\n<!-- 6&#45;&gt;17 -->\n<g id=\"edge66\" class=\"edge\">\n<title>6&#45;&gt;17</title>\n<path fill=\"none\" stroke=\"#707070\" d=\"M64.82,-600.87C145.04,-574.08 488.45,-459.4 571.75,-431.59\"/>\n</g>\n<!-- 6&#45;&gt;18 -->\n<g id=\"edge76\" class=\"edge\">\n<title>6&#45;&gt;18</title>\n<path fill=\"none\" stroke=\"#707070\" d=\"M64.37,-599.61C132.18,-571.14 390.78,-462.54 461.2,-432.96\"/>\n</g>\n<!-- 6&#45;&gt;19 -->\n<g id=\"edge86\" class=\"edge\">\n<title>6&#45;&gt;19</title>\n<path fill=\"none\" stroke=\"#707070\" d=\"M63.43,-597.76C117.12,-567.39 295.45,-466.53 351.2,-435\"/>\n</g>\n<!-- 6&#45;&gt;20 -->\n<g id=\"edge96\" class=\"edge\">\n<title>6&#45;&gt;20</title>\n<path fill=\"none\" stroke=\"#707070\" d=\"M61.39,-594.89C98.78,-562.51 204.07,-471.33 242.62,-437.94\"/>\n</g>\n<!-- 7 -->\n<g id=\"node7\" class=\"node\">\n<title>7</title>\n<ellipse fill=\"#2ecc71\" stroke=\"#2ecc71\" cx=\"1022\" cy=\"-607.49\" rx=\"18\" ry=\"18\"/>\n<text text-anchor=\"middle\" x=\"1022\" y=\"-603.79\" font-family=\"Times,serif\" font-size=\"14.00\" fill=\"#2ecc71\">7</text>\n</g>\n<!-- 7&#45;&gt;11 -->\n<g id=\"edge7\" class=\"edge\">\n<title>7&#45;&gt;11</title>\n<path fill=\"none\" stroke=\"#707070\" d=\"M1004.5,-602.87C892.85,-579.8 281.09,-453.4 165.02,-429.42\"/>\n</g>\n<!-- 7&#45;&gt;12 -->\n<g id=\"edge17\" class=\"edge\">\n<title>7&#45;&gt;12</title>\n<path fill=\"none\" stroke=\"#707070\" d=\"M1004.45,-603.27C883.93,-581.17 179.72,-452.03 54.15,-429\"/>\n</g>\n<!-- 7&#45;&gt;13 -->\n<g id=\"edge27\" class=\"edge\">\n<title>7&#45;&gt;13</title>\n<path fill=\"none\" stroke=\"#707070\" d=\"M1023.13,-589.46C1025.38,-555.49 1030.42,-479.55 1032.76,-444.22\"/>\n</g>\n<!-- 7&#45;&gt;14 -->\n<g id=\"edge37\" class=\"edge\">\n<title>7&#45;&gt;14</title>\n<path fill=\"none\" stroke=\"#707070\" d=\"M1013.73,-591.37C995.33,-557.72 951.12,-476.89 932.03,-442\"/>\n</g>\n<!-- 7&#45;&gt;15 -->\n<g id=\"edge47\" class=\"edge\">\n<title>7&#45;&gt;15</title>\n<path fill=\"none\" stroke=\"#707070\" d=\"M1008.86,-595.17C971.6,-563.05 865.41,-471.52 826.51,-438\"/>\n</g>\n<!-- 7&#45;&gt;16 -->\n<g id=\"edge57\" class=\"edge\">\n<title>7&#45;&gt;16</title>\n<path fill=\"none\" stroke=\"#707070\" d=\"M1006.52,-597.76C952.67,-567.39 773.78,-466.53 717.86,-435\"/>\n</g>\n<!-- 7&#45;&gt;17 -->\n<g id=\"edge67\" class=\"edge\">\n<title>7&#45;&gt;17</title>\n<path fill=\"none\" stroke=\"#707070\" d=\"M1005.59,-599.61C937.63,-571.14 678.42,-462.54 607.84,-432.96\"/>\n</g>\n<!-- 7&#45;&gt;18 -->\n<g id=\"edge77\" class=\"edge\">\n<title>7&#45;&gt;18</title>\n<path fill=\"none\" stroke=\"#707070\" d=\"M1005.15,-600.87C924.78,-574.08 580.74,-459.4 497.29,-431.59\"/>\n</g>\n<!-- 7&#45;&gt;19 -->\n<g id=\"edge87\" class=\"edge\">\n<title>7&#45;&gt;19</title>\n<path fill=\"none\" stroke=\"#707070\" d=\"M1004.84,-601.74C913.14,-576.36 481.49,-456.9 386.51,-430.61\"/>\n</g>\n<!-- 7&#45;&gt;20 -->\n<g id=\"edge97\" class=\"edge\">\n<title>7&#45;&gt;20</title>\n<path fill=\"none\" stroke=\"#707070\" d=\"M1004.58,-602.37C902.39,-578.19 381.5,-454.95 275.75,-429.93\"/>\n</g>\n<!-- 8 -->\n<g id=\"node8\" class=\"node\">\n<title>8</title>\n<ellipse fill=\"#2ecc71\" stroke=\"#2ecc71\" cx=\"914\" cy=\"-607.49\" rx=\"18\" ry=\"18\"/>\n<text text-anchor=\"middle\" x=\"914\" y=\"-603.79\" font-family=\"Times,serif\" font-size=\"14.00\" fill=\"#2ecc71\">8</text>\n</g>\n<!-- 8&#45;&gt;11 -->\n<g id=\"edge8\" class=\"edge\">\n<title>8&#45;&gt;11</title>\n<path fill=\"none\" stroke=\"#707070\" d=\"M896.52,-602.37C793.92,-578.19 270.98,-454.95 164.82,-429.93\"/>\n</g>\n<!-- 8&#45;&gt;12 -->\n<g id=\"edge18\" class=\"edge\">\n<title>8&#45;&gt;12</title>\n<path fill=\"none\" stroke=\"#707070\" d=\"M896.44,-602.87C784.41,-579.8 170.55,-453.4 54.08,-429.42\"/>\n</g>\n<!-- 8&#45;&gt;13 -->\n<g id=\"edge28\" class=\"edge\">\n<title>8&#45;&gt;13</title>\n<path fill=\"none\" stroke=\"#707070\" d=\"M923.62,-591.98C945.86,-558.43 1000.72,-475.68 1023.66,-441.09\"/>\n</g>\n<!-- 8&#45;&gt;14 -->\n<g id=\"edge38\" class=\"edge\">\n<title>8&#45;&gt;14</title>\n<path fill=\"none\" stroke=\"#707070\" d=\"M914.85,-589.46C916.54,-555.49 920.31,-479.55 922.07,-444.22\"/>\n</g>\n<!-- 8&#45;&gt;15 -->\n<g id=\"edge48\" class=\"edge\">\n<title>8&#45;&gt;15</title>\n<path fill=\"none\" stroke=\"#707070\" d=\"M905.48,-591.37C886.47,-557.64 840.74,-476.49 821.15,-441.73\"/>\n</g>\n<!-- 8&#45;&gt;16 -->\n<g id=\"edge58\" class=\"edge\">\n<title>8&#45;&gt;16</title>\n<path fill=\"none\" stroke=\"#707070\" d=\"M900.68,-595.17C862.79,-562.97 754.65,-471.08 715.43,-437.75\"/>\n</g>\n<!-- 8&#45;&gt;17 -->\n<g id=\"edge68\" class=\"edge\">\n<title>8&#45;&gt;17</title>\n<path fill=\"none\" stroke=\"#707070\" d=\"M898.37,-597.76C843.89,-567.32 662.61,-466.06 606.62,-434.78\"/>\n</g>\n<!-- 8&#45;&gt;18 -->\n<g id=\"edge78\" class=\"edge\">\n<title>8&#45;&gt;18</title>\n<path fill=\"none\" stroke=\"#707070\" d=\"M897.74,-599.72C829.72,-571.42 568.22,-462.61 497,-432.98\"/>\n</g>\n<!-- 8&#45;&gt;19 -->\n<g id=\"edge88\" class=\"edge\">\n<title>8&#45;&gt;19</title>\n<path fill=\"none\" stroke=\"#707070\" d=\"M897.06,-600.87C816.24,-574.08 470.3,-459.4 386.39,-431.59\"/>\n</g>\n<!-- 8&#45;&gt;20 -->\n<g id=\"edge98\" class=\"edge\">\n<title>8&#45;&gt;20</title>\n<path fill=\"none\" stroke=\"#707070\" d=\"M896.76,-601.74C804.64,-576.36 371.01,-456.9 275.6,-430.61\"/>\n</g>\n<!-- 9 -->\n<g id=\"node9\" class=\"node\">\n<title>9</title>\n<ellipse fill=\"#2ecc71\" stroke=\"#2ecc71\" cx=\"806\" cy=\"-607.49\" rx=\"18\" ry=\"18\"/>\n<text text-anchor=\"middle\" x=\"806\" y=\"-603.79\" font-family=\"Times,serif\" font-size=\"14.00\" fill=\"#2ecc71\">9</text>\n</g>\n<!-- 9&#45;&gt;11 -->\n<g id=\"edge9\" class=\"edge\">\n<title>9&#45;&gt;11</title>\n<path fill=\"none\" stroke=\"#707070\" d=\"M788.69,-601.74C696.14,-576.36 260.53,-456.9 164.68,-430.61\"/>\n</g>\n<!-- 9&#45;&gt;12 -->\n<g id=\"edge19\" class=\"edge\">\n<title>9&#45;&gt;12</title>\n<path fill=\"none\" stroke=\"#707070\" d=\"M788.45,-602.37C685.45,-578.19 160.47,-454.95 53.89,-429.93\"/>\n</g>\n<!-- 9&#45;&gt;13 -->\n<g id=\"edge29\" class=\"edge\">\n<title>9&#45;&gt;13</title>\n<path fill=\"none\" stroke=\"#707070\" d=\"M819.92,-595.44C860.33,-563.36 977.45,-470.39 1019.09,-437.33\"/>\n</g>\n<!-- 9&#45;&gt;14 -->\n<g id=\"edge39\" class=\"edge\">\n<title>9&#45;&gt;14</title>\n<path fill=\"none\" stroke=\"#707070\" d=\"M815.38,-591.98C837.01,-558.51 890.29,-476.1 912.75,-441.35\"/>\n</g>\n<!-- 9&#45;&gt;15 -->\n<g id=\"edge49\" class=\"edge\">\n<title>9&#45;&gt;15</title>\n<path fill=\"none\" stroke=\"#707070\" d=\"M806.56,-589.46C807.69,-555.49 810.21,-479.55 811.38,-444.22\"/>\n</g>\n<!-- 9&#45;&gt;16 -->\n<g id=\"edge59\" class=\"edge\">\n<title>9&#45;&gt;16</title>\n<path fill=\"none\" stroke=\"#707070\" d=\"M797.23,-591.37C777.66,-557.64 730.58,-476.49 710.42,-441.73\"/>\n</g>\n<!-- 9&#45;&gt;17 -->\n<g id=\"edge69\" class=\"edge\">\n<title>9&#45;&gt;17</title>\n<path fill=\"none\" stroke=\"#707070\" d=\"M792.49,-595.17C754.07,-562.97 644.41,-471.08 604.63,-437.75\"/>\n</g>\n<!-- 9&#45;&gt;18 -->\n<g id=\"edge79\" class=\"edge\">\n<title>9&#45;&gt;18</title>\n<path fill=\"none\" stroke=\"#707070\" d=\"M790.67,-598C736.25,-567.88 552.59,-466.23 495.85,-434.82\"/>\n</g>\n<!-- 9&#45;&gt;19 -->\n<g id=\"edge89\" class=\"edge\">\n<title>9&#45;&gt;19</title>\n<path fill=\"none\" stroke=\"#707070\" d=\"M789.63,-599.72C721.14,-571.42 457.83,-462.61 386.12,-432.98\"/>\n</g>\n<!-- 9&#45;&gt;20 -->\n<g id=\"edge99\" class=\"edge\">\n<title>9&#45;&gt;20</title>\n<path fill=\"none\" stroke=\"#707070\" d=\"M788.97,-600.87C707.61,-574.05 359.09,-459.15 275.21,-431.49\"/>\n</g>\n<!-- 10 -->\n<g id=\"node10\" class=\"node\">\n<title>10</title>\n<ellipse fill=\"#2ecc71\" stroke=\"#2ecc71\" cx=\"697\" cy=\"-607.49\" rx=\"19.5\" ry=\"19.5\"/>\n<text text-anchor=\"middle\" x=\"697\" y=\"-603.79\" font-family=\"Times,serif\" font-size=\"14.00\" fill=\"#2ecc71\">10</text>\n</g>\n<!-- 10&#45;&gt;11 -->\n<g id=\"edge10\" class=\"edge\">\n<title>10&#45;&gt;11</title>\n<path fill=\"none\" stroke=\"#707070\" d=\"M678.67,-600.47C594.82,-572.92 248.39,-459.12 164.4,-431.54\"/>\n</g>\n<!-- 10&#45;&gt;12 -->\n<g id=\"edge20\" class=\"edge\">\n<title>10&#45;&gt;12</title>\n<path fill=\"none\" stroke=\"#707070\" d=\"M678.25,-601.36C582.52,-575.19 148.94,-456.64 53.58,-430.57\"/>\n</g>\n<!-- 10&#45;&gt;13 -->\n<g id=\"edge30\" class=\"edge\">\n<title>10&#45;&gt;13</title>\n<path fill=\"none\" stroke=\"#707070\" d=\"M714.18,-597.26C771.98,-566.21 959.1,-465.72 1016.86,-434.7\"/>\n</g>\n<!-- 10&#45;&gt;14 -->\n<g id=\"edge40\" class=\"edge\">\n<title>10&#45;&gt;14</title>\n<path fill=\"none\" stroke=\"#707070\" d=\"M711.83,-594.61C752.78,-561.82 867.1,-470.26 908.12,-437.41\"/>\n</g>\n<!-- 10&#45;&gt;15 -->\n<g id=\"edge50\" class=\"edge\">\n<title>10&#45;&gt;15</title>\n<path fill=\"none\" stroke=\"#707070\" d=\"M707,-590.74C728.75,-556.51 780.13,-475.64 801.94,-441.33\"/>\n</g>\n<!-- 10&#45;&gt;16 -->\n<g id=\"edge60\" class=\"edge\">\n<title>10&#45;&gt;16</title>\n<path fill=\"none\" stroke=\"#707070\" d=\"M697.41,-587.8C698.18,-553.03 699.82,-478.77 700.59,-444.08\"/>\n</g>\n<!-- 10&#45;&gt;17 -->\n<g id=\"edge70\" class=\"edge\">\n<title>10&#45;&gt;17</title>\n<path fill=\"none\" stroke=\"#707070\" d=\"M687.5,-590.43C667.25,-556.16 620,-476.24 599.63,-441.78\"/>\n</g>\n<!-- 10&#45;&gt;18 -->\n<g id=\"edge80\" class=\"edge\">\n<title>10&#45;&gt;18</title>\n<path fill=\"none\" stroke=\"#707070\" d=\"M682.36,-594.33C642.64,-561.36 533.22,-470.51 493.58,-437.6\"/>\n</g>\n<!-- 10&#45;&gt;19 -->\n<g id=\"edge90\" class=\"edge\">\n<title>10&#45;&gt;19</title>\n<path fill=\"none\" stroke=\"#707070\" d=\"M680.23,-597.26C623.8,-566.21 441.12,-465.72 384.73,-434.7\"/>\n</g>\n<!-- 10&#45;&gt;20 -->\n<g id=\"edge100\" class=\"edge\">\n<title>10&#45;&gt;20</title>\n<path fill=\"none\" stroke=\"#707070\" d=\"M679.21,-599.17C608.3,-570 346.31,-462.23 275.01,-432.9\"/>\n</g>\n<!-- 21 -->\n<g id=\"node21\" class=\"node\">\n<title>21</title>\n<ellipse fill=\"#3498db\" stroke=\"#3498db\" cx=\"423\" cy=\"-241.49\" rx=\"19.5\" ry=\"19.5\"/>\n<text text-anchor=\"middle\" x=\"423\" y=\"-237.79\" font-family=\"Times,serif\" font-size=\"14.00\" fill=\"#3498db\">21</text>\n</g>\n<!-- 11&#45;&gt;21 -->\n<g id=\"edge101\" class=\"edge\">\n<title>11&#45;&gt;21</title>\n<path fill=\"none\" stroke=\"#707070\" d=\"M162.09,-412.98C211.05,-380.99 357.85,-285.07 406.87,-253.04\"/>\n</g>\n<!-- 22 -->\n<g id=\"node22\" class=\"node\">\n<title>22</title>\n<ellipse fill=\"#3498db\" stroke=\"#3498db\" cx=\"312\" cy=\"-241.49\" rx=\"19.5\" ry=\"19.5\"/>\n<text text-anchor=\"middle\" x=\"312\" y=\"-237.79\" font-family=\"Times,serif\" font-size=\"14.00\" fill=\"#3498db\">22</text>\n</g>\n<!-- 11&#45;&gt;22 -->\n<g id=\"edge111\" class=\"edge\">\n<title>11&#45;&gt;22</title>\n<path fill=\"none\" stroke=\"#707070\" d=\"M158.75,-409.59C189.65,-375.9 268.26,-290.18 299.21,-256.44\"/>\n</g>\n<!-- 23 -->\n<g id=\"node23\" class=\"node\">\n<title>23</title>\n<ellipse fill=\"#3498db\" stroke=\"#3498db\" cx=\"756\" cy=\"-241.49\" rx=\"19.5\" ry=\"19.5\"/>\n<text text-anchor=\"middle\" x=\"756\" y=\"-237.79\" font-family=\"Times,serif\" font-size=\"14.00\" fill=\"#3498db\">23</text>\n</g>\n<!-- 11&#45;&gt;23 -->\n<g id=\"edge121\" class=\"edge\">\n<title>11&#45;&gt;23</title>\n<path fill=\"none\" stroke=\"#707070\" d=\"M164.59,-417.98C254.94,-391.17 647.53,-274.68 737.56,-247.97\"/>\n</g>\n<!-- 24 -->\n<g id=\"node24\" class=\"node\">\n<title>24</title>\n<ellipse fill=\"#3498db\" stroke=\"#3498db\" cx=\"645\" cy=\"-241.49\" rx=\"19.5\" ry=\"19.5\"/>\n<text text-anchor=\"middle\" x=\"645\" y=\"-237.79\" font-family=\"Times,serif\" font-size=\"14.00\" fill=\"#3498db\">24</text>\n</g>\n<!-- 11&#45;&gt;24 -->\n<g id=\"edge131\" class=\"edge\">\n<title>11&#45;&gt;24</title>\n<path fill=\"none\" stroke=\"#707070\" d=\"M164.05,-416.94C241.98,-388.68 549.09,-277.28 626.97,-249.03\"/>\n</g>\n<!-- 25 -->\n<g id=\"node25\" class=\"node\">\n<title>25</title>\n<ellipse fill=\"#3498db\" stroke=\"#3498db\" cx=\"534\" cy=\"-241.49\" rx=\"19.5\" ry=\"19.5\"/>\n<text text-anchor=\"middle\" x=\"534\" y=\"-237.79\" font-family=\"Times,serif\" font-size=\"14.00\" fill=\"#3498db\">25</text>\n</g>\n<!-- 11&#45;&gt;25 -->\n<g id=\"edge141\" class=\"edge\">\n<title>11&#45;&gt;25</title>\n<path fill=\"none\" stroke=\"#707070\" d=\"M163.43,-415.36C227.86,-385.3 452.26,-280.62 516.62,-250.6\"/>\n</g>\n<!-- 12&#45;&gt;21 -->\n<g id=\"edge102\" class=\"edge\">\n<title>12&#45;&gt;21</title>\n<path fill=\"none\" stroke=\"#707070\" d=\"M52.43,-415.36C116.86,-385.3 341.26,-280.62 405.62,-250.6\"/>\n</g>\n<!-- 12&#45;&gt;22 -->\n<g id=\"edge112\" class=\"edge\">\n<title>12&#45;&gt;22</title>\n<path fill=\"none\" stroke=\"#707070\" d=\"M51.09,-412.98C100.05,-380.99 246.85,-285.07 295.87,-253.04\"/>\n</g>\n<!-- 12&#45;&gt;23 -->\n<g id=\"edge122\" class=\"edge\">\n<title>12&#45;&gt;23</title>\n<path fill=\"none\" stroke=\"#707070\" d=\"M53.91,-418.74C155.56,-393.23 636.13,-272.59 737.28,-247.19\"/>\n</g>\n<!-- 12&#45;&gt;24 -->\n<g id=\"edge132\" class=\"edge\">\n<title>12&#45;&gt;24</title>\n<path fill=\"none\" stroke=\"#707070\" d=\"M53.59,-417.98C143.94,-391.17 536.53,-274.68 626.56,-247.97\"/>\n</g>\n<!-- 12&#45;&gt;25 -->\n<g id=\"edge142\" class=\"edge\">\n<title>12&#45;&gt;25</title>\n<path fill=\"none\" stroke=\"#707070\" d=\"M53.05,-416.94C130.98,-388.68 438.09,-277.28 515.97,-249.03\"/>\n</g>\n<!-- 13&#45;&gt;21 -->\n<g id=\"edge103\" class=\"edge\">\n<title>13&#45;&gt;21</title>\n<path fill=\"none\" stroke=\"#707070\" d=\"M1015.38,-417.98C924.88,-391.17 531.65,-274.68 441.47,-247.97\"/>\n</g>\n<!-- 13&#45;&gt;22 -->\n<g id=\"edge113\" class=\"edge\">\n<title>13&#45;&gt;22</title>\n<path fill=\"none\" stroke=\"#707070\" d=\"M1015.06,-418.74C913.27,-393.23 432.04,-272.59 330.74,-247.19\"/>\n</g>\n<!-- 13&#45;&gt;23 -->\n<g id=\"edge123\" class=\"edge\">\n<title>13&#45;&gt;23</title>\n<path fill=\"none\" stroke=\"#707070\" d=\"M1017.85,-412.98C968.72,-380.99 821.39,-285.07 772.19,-253.04\"/>\n</g>\n<!-- 13&#45;&gt;24 -->\n<g id=\"edge133\" class=\"edge\">\n<title>13&#45;&gt;24</title>\n<path fill=\"none\" stroke=\"#707070\" d=\"M1016.53,-415.36C951.92,-385.3 726.95,-280.62 662.42,-250.6\"/>\n</g>\n<!-- 13&#45;&gt;25 -->\n<g id=\"edge143\" class=\"edge\">\n<title>13&#45;&gt;25</title>\n<path fill=\"none\" stroke=\"#707070\" d=\"M1015.91,-416.94C937.82,-388.68 630.1,-277.28 552.07,-249.03\"/>\n</g>\n<!-- 14&#45;&gt;21 -->\n<g id=\"edge104\" class=\"edge\">\n<title>14&#45;&gt;21</title>\n<path fill=\"none\" stroke=\"#707070\" d=\"M904.91,-416.94C826.82,-388.68 519.1,-277.28 441.07,-249.03\"/>\n</g>\n<!-- 14&#45;&gt;22 -->\n<g id=\"edge114\" class=\"edge\">\n<title>14&#45;&gt;22</title>\n<path fill=\"none\" stroke=\"#707070\" d=\"M904.38,-417.98C813.88,-391.17 420.65,-274.68 330.47,-247.97\"/>\n</g>\n<!-- 14&#45;&gt;23 -->\n<g id=\"edge124\" class=\"edge\">\n<title>14&#45;&gt;23</title>\n<path fill=\"none\" stroke=\"#707070\" d=\"M910.17,-409.59C879.09,-375.9 800,-290.18 768.87,-256.44\"/>\n</g>\n<!-- 14&#45;&gt;24 -->\n<g id=\"edge134\" class=\"edge\">\n<title>14&#45;&gt;24</title>\n<path fill=\"none\" stroke=\"#707070\" d=\"M906.85,-412.98C857.72,-380.99 710.39,-285.07 661.19,-253.04\"/>\n</g>\n<!-- 14&#45;&gt;25 -->\n<g id=\"edge144\" class=\"edge\">\n<title>14&#45;&gt;25</title>\n<path fill=\"none\" stroke=\"#707070\" d=\"M905.53,-415.36C840.92,-385.3 615.95,-280.62 551.42,-250.6\"/>\n</g>\n<!-- 15&#45;&gt;21 -->\n<g id=\"edge105\" class=\"edge\">\n<title>15&#45;&gt;21</title>\n<path fill=\"none\" stroke=\"#707070\" d=\"M794.53,-415.36C729.92,-385.3 504.95,-280.62 440.42,-250.6\"/>\n</g>\n<!-- 15&#45;&gt;22 -->\n<g id=\"edge115\" class=\"edge\">\n<title>15&#45;&gt;22</title>\n<path fill=\"none\" stroke=\"#707070\" d=\"M793.91,-416.94C715.82,-388.68 408.1,-277.28 330.07,-249.03\"/>\n</g>\n<!-- 15&#45;&gt;23 -->\n<g id=\"edge125\" class=\"edge\">\n<title>15&#45;&gt;23</title>\n<path fill=\"none\" stroke=\"#707070\" d=\"M806.43,-405.47C795.69,-370.78 772.27,-295.07 761.55,-260.44\"/>\n</g>\n<!-- 15&#45;&gt;24 -->\n<g id=\"edge135\" class=\"edge\">\n<title>15&#45;&gt;24</title>\n<path fill=\"none\" stroke=\"#707070\" d=\"M799.17,-409.59C768.09,-375.9 689,-290.18 657.87,-256.44\"/>\n</g>\n<!-- 15&#45;&gt;25 -->\n<g id=\"edge145\" class=\"edge\">\n<title>15&#45;&gt;25</title>\n<path fill=\"none\" stroke=\"#707070\" d=\"M795.85,-412.98C746.72,-380.99 599.39,-285.07 550.19,-253.04\"/>\n</g>\n<!-- 16&#45;&gt;21 -->\n<g id=\"edge106\" class=\"edge\">\n<title>16&#45;&gt;21</title>\n<path fill=\"none\" stroke=\"#707070\" d=\"M684.85,-412.98C635.72,-380.99 488.39,-285.07 439.19,-253.04\"/>\n</g>\n<!-- 16&#45;&gt;22 -->\n<g id=\"edge116\" class=\"edge\">\n<title>16&#45;&gt;22</title>\n<path fill=\"none\" stroke=\"#707070\" d=\"M683.53,-415.36C618.92,-385.3 393.95,-280.62 329.42,-250.6\"/>\n</g>\n<!-- 16&#45;&gt;23 -->\n<g id=\"edge126\" class=\"edge\">\n<title>16&#45;&gt;23</title>\n<path fill=\"none\" stroke=\"#707070\" d=\"M706.47,-405.47C717.02,-370.78 740.02,-295.07 750.55,-260.44\"/>\n</g>\n<!-- 16&#45;&gt;24 -->\n<g id=\"edge136\" class=\"edge\">\n<title>16&#45;&gt;24</title>\n<path fill=\"none\" stroke=\"#707070\" d=\"M695.43,-405.47C684.69,-370.78 661.27,-295.07 650.55,-260.44\"/>\n</g>\n<!-- 16&#45;&gt;25 -->\n<g id=\"edge146\" class=\"edge\">\n<title>16&#45;&gt;25</title>\n<path fill=\"none\" stroke=\"#707070\" d=\"M688.17,-409.59C657.09,-375.9 578,-290.18 546.87,-256.44\"/>\n</g>\n<!-- 17&#45;&gt;21 -->\n<g id=\"edge107\" class=\"edge\">\n<title>17&#45;&gt;21</title>\n<path fill=\"none\" stroke=\"#707070\" d=\"M577.17,-409.59C546.09,-375.9 467,-290.18 435.87,-256.44\"/>\n</g>\n<!-- 17&#45;&gt;22 -->\n<g id=\"edge117\" class=\"edge\">\n<title>17&#45;&gt;22</title>\n<path fill=\"none\" stroke=\"#707070\" d=\"M573.85,-412.98C524.72,-380.99 377.39,-285.07 328.19,-253.04\"/>\n</g>\n<!-- 17&#45;&gt;23 -->\n<g id=\"edge127\" class=\"edge\">\n<title>17&#45;&gt;23</title>\n<path fill=\"none\" stroke=\"#707070\" d=\"M602.75,-409.59C633.65,-375.9 712.26,-290.18 743.21,-256.44\"/>\n</g>\n<!-- 17&#45;&gt;24 -->\n<g id=\"edge137\" class=\"edge\">\n<title>17&#45;&gt;24</title>\n<path fill=\"none\" stroke=\"#707070\" d=\"M595.47,-405.47C606.02,-370.78 629.02,-295.07 639.55,-260.44\"/>\n</g>\n<!-- 17&#45;&gt;25 -->\n<g id=\"edge147\" class=\"edge\">\n<title>17&#45;&gt;25</title>\n<path fill=\"none\" stroke=\"#707070\" d=\"M584.43,-405.47C573.69,-370.78 550.27,-295.07 539.55,-260.44\"/>\n</g>\n<!-- 18&#45;&gt;21 -->\n<g id=\"edge108\" class=\"edge\">\n<title>18&#45;&gt;21</title>\n<path fill=\"none\" stroke=\"#707070\" d=\"M473.43,-405.47C462.69,-370.78 439.27,-295.07 428.55,-260.44\"/>\n</g>\n<!-- 18&#45;&gt;22 -->\n<g id=\"edge118\" class=\"edge\">\n<title>18&#45;&gt;22</title>\n<path fill=\"none\" stroke=\"#707070\" d=\"M466.17,-409.59C435.09,-375.9 356,-290.18 324.87,-256.44\"/>\n</g>\n<!-- 18&#45;&gt;23 -->\n<g id=\"edge128\" class=\"edge\">\n<title>18&#45;&gt;23</title>\n<path fill=\"none\" stroke=\"#707070\" d=\"M495.09,-412.98C544.05,-380.99 690.85,-285.07 739.87,-253.04\"/>\n</g>\n<!-- 18&#45;&gt;24 -->\n<g id=\"edge138\" class=\"edge\">\n<title>18&#45;&gt;24</title>\n<path fill=\"none\" stroke=\"#707070\" d=\"M491.75,-409.59C522.65,-375.9 601.26,-290.18 632.21,-256.44\"/>\n</g>\n<!-- 18&#45;&gt;25 -->\n<g id=\"edge148\" class=\"edge\">\n<title>18&#45;&gt;25</title>\n<path fill=\"none\" stroke=\"#707070\" d=\"M484.47,-405.47C495.02,-370.78 518.02,-295.07 528.55,-260.44\"/>\n</g>\n<!-- 19&#45;&gt;21 -->\n<g id=\"edge109\" class=\"edge\">\n<title>19&#45;&gt;21</title>\n<path fill=\"none\" stroke=\"#707070\" d=\"M373.47,-405.47C384.02,-370.78 407.02,-295.07 417.55,-260.44\"/>\n</g>\n<!-- 19&#45;&gt;22 -->\n<g id=\"edge119\" class=\"edge\">\n<title>19&#45;&gt;22</title>\n<path fill=\"none\" stroke=\"#707070\" d=\"M362.43,-405.47C351.69,-370.78 328.27,-295.07 317.55,-260.44\"/>\n</g>\n<!-- 19&#45;&gt;23 -->\n<g id=\"edge129\" class=\"edge\">\n<title>19&#45;&gt;23</title>\n<path fill=\"none\" stroke=\"#707070\" d=\"M385.43,-415.36C449.86,-385.3 674.26,-280.62 738.62,-250.6\"/>\n</g>\n<!-- 19&#45;&gt;24 -->\n<g id=\"edge139\" class=\"edge\">\n<title>19&#45;&gt;24</title>\n<path fill=\"none\" stroke=\"#707070\" d=\"M384.09,-412.98C433.05,-380.99 579.85,-285.07 628.87,-253.04\"/>\n</g>\n<!-- 19&#45;&gt;25 -->\n<g id=\"edge149\" class=\"edge\">\n<title>19&#45;&gt;25</title>\n<path fill=\"none\" stroke=\"#707070\" d=\"M380.75,-409.59C411.65,-375.9 490.26,-290.18 521.21,-256.44\"/>\n</g>\n<!-- 20&#45;&gt;21 -->\n<g id=\"edge110\" class=\"edge\">\n<title>20&#45;&gt;21</title>\n<path fill=\"none\" stroke=\"#707070\" d=\"M269.75,-409.59C300.65,-375.9 379.26,-290.18 410.21,-256.44\"/>\n</g>\n<!-- 20&#45;&gt;22 -->\n<g id=\"edge120\" class=\"edge\">\n<title>20&#45;&gt;22</title>\n<path fill=\"none\" stroke=\"#707070\" d=\"M262.47,-405.47C273.02,-370.78 296.02,-295.07 306.55,-260.44\"/>\n</g>\n<!-- 20&#45;&gt;23 -->\n<g id=\"edge130\" class=\"edge\">\n<title>20&#45;&gt;23</title>\n<path fill=\"none\" stroke=\"#707070\" d=\"M275.05,-416.94C352.98,-388.68 660.09,-277.28 737.97,-249.03\"/>\n</g>\n<!-- 20&#45;&gt;24 -->\n<g id=\"edge140\" class=\"edge\">\n<title>20&#45;&gt;24</title>\n<path fill=\"none\" stroke=\"#707070\" d=\"M274.43,-415.36C338.86,-385.3 563.26,-280.62 627.62,-250.6\"/>\n</g>\n<!-- 20&#45;&gt;25 -->\n<g id=\"edge150\" class=\"edge\">\n<title>20&#45;&gt;25</title>\n<path fill=\"none\" stroke=\"#707070\" d=\"M273.09,-412.98C322.05,-380.99 468.85,-285.07 517.87,-253.04\"/>\n</g>\n<!-- 26 -->\n<g id=\"node26\" class=\"node\">\n<title>26</title>\n<ellipse fill=\"#e74c3c\" stroke=\"#e74c3c\" cx=\"534\" cy=\"-58.5\" rx=\"19.5\" ry=\"19.5\"/>\n<text text-anchor=\"middle\" x=\"534\" y=\"-54.8\" font-family=\"Times,serif\" font-size=\"14.00\" fill=\"#e74c3c\">26</text>\n</g>\n<!-- 21&#45;&gt;26 -->\n<g id=\"edge151\" class=\"edge\">\n<title>21&#45;&gt;26</title>\n<path fill=\"none\" stroke=\"#707070\" d=\"M432.85,-224.43C453.91,-190.09 503.13,-109.84 524.17,-75.52\"/>\n</g>\n<!-- 22&#45;&gt;26 -->\n<g id=\"edge152\" class=\"edge\">\n<title>22&#45;&gt;26</title>\n<path fill=\"none\" stroke=\"#707070\" d=\"M326.91,-228.34C367.35,-195.37 478.79,-104.51 519.15,-71.6\"/>\n</g>\n<!-- 23&#45;&gt;26 -->\n<g id=\"edge153\" class=\"edge\">\n<title>23&#45;&gt;26</title>\n<path fill=\"none\" stroke=\"#707070\" d=\"M741.09,-228.34C700.65,-195.37 589.21,-104.51 548.85,-71.6\"/>\n</g>\n<!-- 24&#45;&gt;26 -->\n<g id=\"edge154\" class=\"edge\">\n<title>24&#45;&gt;26</title>\n<path fill=\"none\" stroke=\"#707070\" d=\"M635.15,-224.43C614.09,-190.09 564.87,-109.84 543.83,-75.52\"/>\n</g>\n<!-- 25&#45;&gt;26 -->\n<g id=\"edge155\" class=\"edge\">\n<title>25&#45;&gt;26</title>\n<path fill=\"none\" stroke=\"#707070\" d=\"M534,-221.81C534,-187.03 534,-112.78 534,-78.08\"/>\n</g>\n</g>\n</svg>\n",
            "text/plain": [
              "<graphviz.sources.Source at 0x7efef813dac0>"
            ]
          },
          "metadata": {},
          "execution_count": 66
        }
      ]
    },
    {
      "cell_type": "code",
      "source": [],
      "metadata": {
        "id": "iQbXU9JX-8Nm"
      },
      "execution_count": null,
      "outputs": []
    }
  ]
}