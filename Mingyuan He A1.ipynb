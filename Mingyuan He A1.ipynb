{
  "nbformat": 4,
  "nbformat_minor": 0,
  "metadata": {
    "colab": {
      "provenance": []
    },
    "kernelspec": {
      "name": "python3",
      "display_name": "Python 3"
    },
    "language_info": {
      "name": "python"
    }
  },
  "cells": [
    {
      "cell_type": "code",
      "execution_count": null,
      "metadata": {
        "id": "0mrQis8RP1US"
      },
      "outputs": [],
      "source": [
        "import pandas as pd\n",
        "from google.colab import drive\n",
        "import matplotlib.pyplot as plt"
      ]
    },
    {
      "cell_type": "code",
      "source": [
        "drive.mount('/content/gdrive/', force_remount= True)"
      ],
      "metadata": {
        "colab": {
          "base_uri": "https://localhost:8080/"
        },
        "id": "Z4jTUdtfQVmR",
        "outputId": "a3dcc782-d4ff-42e2-bc2e-051b0a5796f3"
      },
      "execution_count": null,
      "outputs": [
        {
          "output_type": "stream",
          "name": "stdout",
          "text": [
            "Mounted at /content/gdrive/\n"
          ]
        }
      ]
    },
    {
      "cell_type": "code",
      "source": [
        "df = pd.read_csv(\"/content/gdrive/MyDrive/Football.csv\")"
      ],
      "metadata": {
        "id": "Gj1bqQa8RJmp"
      },
      "execution_count": 23,
      "outputs": []
    },
    {
      "cell_type": "code",
      "source": [
        "df.head()"
      ],
      "metadata": {
        "id": "CcvmiA9WZlZE",
        "colab": {
          "base_uri": "https://localhost:8080/",
          "height": 455
        },
        "outputId": "e261a6b5-7e64-4c92-ab6d-abfe60998d55"
      },
      "execution_count": 26,
      "outputs": [
        {
          "output_type": "execute_result",
          "data": {
            "text/plain": [
              "                              Key               Team          League  \\\n",
              "0            Chelsea DL 2009/2010            Chelsea  Premier League   \n",
              "1  Manchester United DL 2009/2010  Manchester United  Premier League   \n",
              "2          Tottenham DL 2009/2010          Tottenham  Premier League   \n",
              "3            Arsenal DL 2009/2010            Arsenal  Premier League   \n",
              "4        Aston Villa DL 2009/2010        Aston Villa  Premier League   \n",
              "\n",
              "      Season  Rank  Games  Wins winning rate  Draws  Losses  ...  Nutmegs  \\\n",
              "0  2009/2010   1.0   38.0  27.0  0.710526316    5.0     6.0  ...      NaN   \n",
              "1  2009/2010   2.0   38.0  27.0  0.710526316    4.0     7.0  ...      NaN   \n",
              "2  2009/2010   4.0   38.0  21.0  0.552631579    7.0    10.0  ...      NaN   \n",
              "3  2009/2010   3.0   38.0  23.0  0.605263158    6.0     9.0  ...      NaN   \n",
              "4  2009/2010   6.0   38.0  17.0  0.447368421   13.0     8.0  ...      NaN   \n",
              "\n",
              "   Controlled  DistMovedWithBall  ProgressiveDistMoved  ProgC  \\\n",
              "0         NaN                NaN                   NaN    NaN   \n",
              "1         NaN                NaN                   NaN    NaN   \n",
              "2         NaN                NaN                   NaN    NaN   \n",
              "3         NaN                NaN                   NaN    NaN   \n",
              "4         NaN                NaN                   NaN    NaN   \n",
              "\n",
              "   ProgressiveIntoFinalThird  ProgressiveInto18Yard  Miscontrols  \\\n",
              "0                        NaN                    NaN          NaN   \n",
              "1                        NaN                    NaN          NaN   \n",
              "2                        NaN                    NaN          NaN   \n",
              "3                        NaN                    NaN          NaN   \n",
              "4                        NaN                    NaN          NaN   \n",
              "\n",
              "   MiscontrolsAfterTackle  ProgressivePassReceived  \n",
              "0                     NaN                      NaN  \n",
              "1                     NaN                      NaN  \n",
              "2                     NaN                      NaN  \n",
              "3                     NaN                      NaN  \n",
              "4                     NaN                      NaN  \n",
              "\n",
              "[5 rows x 97 columns]"
            ],
            "text/html": [
              "\n",
              "  <div id=\"df-28ae0028-1879-4cf0-a4c7-96d92f0c983f\">\n",
              "    <div class=\"colab-df-container\">\n",
              "      <div>\n",
              "<style scoped>\n",
              "    .dataframe tbody tr th:only-of-type {\n",
              "        vertical-align: middle;\n",
              "    }\n",
              "\n",
              "    .dataframe tbody tr th {\n",
              "        vertical-align: top;\n",
              "    }\n",
              "\n",
              "    .dataframe thead th {\n",
              "        text-align: right;\n",
              "    }\n",
              "</style>\n",
              "<table border=\"1\" class=\"dataframe\">\n",
              "  <thead>\n",
              "    <tr style=\"text-align: right;\">\n",
              "      <th></th>\n",
              "      <th>Key</th>\n",
              "      <th>Team</th>\n",
              "      <th>League</th>\n",
              "      <th>Season</th>\n",
              "      <th>Rank</th>\n",
              "      <th>Games</th>\n",
              "      <th>Wins</th>\n",
              "      <th>winning rate</th>\n",
              "      <th>Draws</th>\n",
              "      <th>Losses</th>\n",
              "      <th>...</th>\n",
              "      <th>Nutmegs</th>\n",
              "      <th>Controlled</th>\n",
              "      <th>DistMovedWithBall</th>\n",
              "      <th>ProgressiveDistMoved</th>\n",
              "      <th>ProgC</th>\n",
              "      <th>ProgressiveIntoFinalThird</th>\n",
              "      <th>ProgressiveInto18Yard</th>\n",
              "      <th>Miscontrols</th>\n",
              "      <th>MiscontrolsAfterTackle</th>\n",
              "      <th>ProgressivePassReceived</th>\n",
              "    </tr>\n",
              "  </thead>\n",
              "  <tbody>\n",
              "    <tr>\n",
              "      <th>0</th>\n",
              "      <td>Chelsea DL 2009/2010</td>\n",
              "      <td>Chelsea</td>\n",
              "      <td>Premier League</td>\n",
              "      <td>2009/2010</td>\n",
              "      <td>1.0</td>\n",
              "      <td>38.0</td>\n",
              "      <td>27.0</td>\n",
              "      <td>0.710526316</td>\n",
              "      <td>5.0</td>\n",
              "      <td>6.0</td>\n",
              "      <td>...</td>\n",
              "      <td>NaN</td>\n",
              "      <td>NaN</td>\n",
              "      <td>NaN</td>\n",
              "      <td>NaN</td>\n",
              "      <td>NaN</td>\n",
              "      <td>NaN</td>\n",
              "      <td>NaN</td>\n",
              "      <td>NaN</td>\n",
              "      <td>NaN</td>\n",
              "      <td>NaN</td>\n",
              "    </tr>\n",
              "    <tr>\n",
              "      <th>1</th>\n",
              "      <td>Manchester United DL 2009/2010</td>\n",
              "      <td>Manchester United</td>\n",
              "      <td>Premier League</td>\n",
              "      <td>2009/2010</td>\n",
              "      <td>2.0</td>\n",
              "      <td>38.0</td>\n",
              "      <td>27.0</td>\n",
              "      <td>0.710526316</td>\n",
              "      <td>4.0</td>\n",
              "      <td>7.0</td>\n",
              "      <td>...</td>\n",
              "      <td>NaN</td>\n",
              "      <td>NaN</td>\n",
              "      <td>NaN</td>\n",
              "      <td>NaN</td>\n",
              "      <td>NaN</td>\n",
              "      <td>NaN</td>\n",
              "      <td>NaN</td>\n",
              "      <td>NaN</td>\n",
              "      <td>NaN</td>\n",
              "      <td>NaN</td>\n",
              "    </tr>\n",
              "    <tr>\n",
              "      <th>2</th>\n",
              "      <td>Tottenham DL 2009/2010</td>\n",
              "      <td>Tottenham</td>\n",
              "      <td>Premier League</td>\n",
              "      <td>2009/2010</td>\n",
              "      <td>4.0</td>\n",
              "      <td>38.0</td>\n",
              "      <td>21.0</td>\n",
              "      <td>0.552631579</td>\n",
              "      <td>7.0</td>\n",
              "      <td>10.0</td>\n",
              "      <td>...</td>\n",
              "      <td>NaN</td>\n",
              "      <td>NaN</td>\n",
              "      <td>NaN</td>\n",
              "      <td>NaN</td>\n",
              "      <td>NaN</td>\n",
              "      <td>NaN</td>\n",
              "      <td>NaN</td>\n",
              "      <td>NaN</td>\n",
              "      <td>NaN</td>\n",
              "      <td>NaN</td>\n",
              "    </tr>\n",
              "    <tr>\n",
              "      <th>3</th>\n",
              "      <td>Arsenal DL 2009/2010</td>\n",
              "      <td>Arsenal</td>\n",
              "      <td>Premier League</td>\n",
              "      <td>2009/2010</td>\n",
              "      <td>3.0</td>\n",
              "      <td>38.0</td>\n",
              "      <td>23.0</td>\n",
              "      <td>0.605263158</td>\n",
              "      <td>6.0</td>\n",
              "      <td>9.0</td>\n",
              "      <td>...</td>\n",
              "      <td>NaN</td>\n",
              "      <td>NaN</td>\n",
              "      <td>NaN</td>\n",
              "      <td>NaN</td>\n",
              "      <td>NaN</td>\n",
              "      <td>NaN</td>\n",
              "      <td>NaN</td>\n",
              "      <td>NaN</td>\n",
              "      <td>NaN</td>\n",
              "      <td>NaN</td>\n",
              "    </tr>\n",
              "    <tr>\n",
              "      <th>4</th>\n",
              "      <td>Aston Villa DL 2009/2010</td>\n",
              "      <td>Aston Villa</td>\n",
              "      <td>Premier League</td>\n",
              "      <td>2009/2010</td>\n",
              "      <td>6.0</td>\n",
              "      <td>38.0</td>\n",
              "      <td>17.0</td>\n",
              "      <td>0.447368421</td>\n",
              "      <td>13.0</td>\n",
              "      <td>8.0</td>\n",
              "      <td>...</td>\n",
              "      <td>NaN</td>\n",
              "      <td>NaN</td>\n",
              "      <td>NaN</td>\n",
              "      <td>NaN</td>\n",
              "      <td>NaN</td>\n",
              "      <td>NaN</td>\n",
              "      <td>NaN</td>\n",
              "      <td>NaN</td>\n",
              "      <td>NaN</td>\n",
              "      <td>NaN</td>\n",
              "    </tr>\n",
              "  </tbody>\n",
              "</table>\n",
              "<p>5 rows × 97 columns</p>\n",
              "</div>\n",
              "      <button class=\"colab-df-convert\" onclick=\"convertToInteractive('df-28ae0028-1879-4cf0-a4c7-96d92f0c983f')\"\n",
              "              title=\"Convert this dataframe to an interactive table.\"\n",
              "              style=\"display:none;\">\n",
              "        \n",
              "  <svg xmlns=\"http://www.w3.org/2000/svg\" height=\"24px\"viewBox=\"0 0 24 24\"\n",
              "       width=\"24px\">\n",
              "    <path d=\"M0 0h24v24H0V0z\" fill=\"none\"/>\n",
              "    <path d=\"M18.56 5.44l.94 2.06.94-2.06 2.06-.94-2.06-.94-.94-2.06-.94 2.06-2.06.94zm-11 1L8.5 8.5l.94-2.06 2.06-.94-2.06-.94L8.5 2.5l-.94 2.06-2.06.94zm10 10l.94 2.06.94-2.06 2.06-.94-2.06-.94-.94-2.06-.94 2.06-2.06.94z\"/><path d=\"M17.41 7.96l-1.37-1.37c-.4-.4-.92-.59-1.43-.59-.52 0-1.04.2-1.43.59L10.3 9.45l-7.72 7.72c-.78.78-.78 2.05 0 2.83L4 21.41c.39.39.9.59 1.41.59.51 0 1.02-.2 1.41-.59l7.78-7.78 2.81-2.81c.8-.78.8-2.07 0-2.86zM5.41 20L4 18.59l7.72-7.72 1.47 1.35L5.41 20z\"/>\n",
              "  </svg>\n",
              "      </button>\n",
              "      \n",
              "  <style>\n",
              "    .colab-df-container {\n",
              "      display:flex;\n",
              "      flex-wrap:wrap;\n",
              "      gap: 12px;\n",
              "    }\n",
              "\n",
              "    .colab-df-convert {\n",
              "      background-color: #E8F0FE;\n",
              "      border: none;\n",
              "      border-radius: 50%;\n",
              "      cursor: pointer;\n",
              "      display: none;\n",
              "      fill: #1967D2;\n",
              "      height: 32px;\n",
              "      padding: 0 0 0 0;\n",
              "      width: 32px;\n",
              "    }\n",
              "\n",
              "    .colab-df-convert:hover {\n",
              "      background-color: #E2EBFA;\n",
              "      box-shadow: 0px 1px 2px rgba(60, 64, 67, 0.3), 0px 1px 3px 1px rgba(60, 64, 67, 0.15);\n",
              "      fill: #174EA6;\n",
              "    }\n",
              "\n",
              "    [theme=dark] .colab-df-convert {\n",
              "      background-color: #3B4455;\n",
              "      fill: #D2E3FC;\n",
              "    }\n",
              "\n",
              "    [theme=dark] .colab-df-convert:hover {\n",
              "      background-color: #434B5C;\n",
              "      box-shadow: 0px 1px 3px 1px rgba(0, 0, 0, 0.15);\n",
              "      filter: drop-shadow(0px 1px 2px rgba(0, 0, 0, 0.3));\n",
              "      fill: #FFFFFF;\n",
              "    }\n",
              "  </style>\n",
              "\n",
              "      <script>\n",
              "        const buttonEl =\n",
              "          document.querySelector('#df-28ae0028-1879-4cf0-a4c7-96d92f0c983f button.colab-df-convert');\n",
              "        buttonEl.style.display =\n",
              "          google.colab.kernel.accessAllowed ? 'block' : 'none';\n",
              "\n",
              "        async function convertToInteractive(key) {\n",
              "          const element = document.querySelector('#df-28ae0028-1879-4cf0-a4c7-96d92f0c983f');\n",
              "          const dataTable =\n",
              "            await google.colab.kernel.invokeFunction('convertToInteractive',\n",
              "                                                     [key], {});\n",
              "          if (!dataTable) return;\n",
              "\n",
              "          const docLinkHtml = 'Like what you see? Visit the ' +\n",
              "            '<a target=\"_blank\" href=https://colab.research.google.com/notebooks/data_table.ipynb>data table notebook</a>'\n",
              "            + ' to learn more about interactive tables.';\n",
              "          element.innerHTML = '';\n",
              "          dataTable['output_type'] = 'display_data';\n",
              "          await google.colab.output.renderOutput(dataTable, element);\n",
              "          const docLink = document.createElement('div');\n",
              "          docLink.innerHTML = docLinkHtml;\n",
              "          element.appendChild(docLink);\n",
              "        }\n",
              "      </script>\n",
              "    </div>\n",
              "  </div>\n",
              "  "
            ]
          },
          "metadata": {},
          "execution_count": 26
        }
      ]
    },
    {
      "cell_type": "code",
      "source": [
        "plt.hist(df[\"Wins\"])"
      ],
      "metadata": {
        "colab": {
          "base_uri": "https://localhost:8080/",
          "height": 319
        },
        "id": "YNpBh-IGaafn",
        "outputId": "9da4c41a-be84-4099-ad76-4aee95e66b01"
      },
      "execution_count": 31,
      "outputs": [
        {
          "output_type": "execute_result",
          "data": {
            "text/plain": [
              "(array([ 47., 143., 331., 274., 166., 126.,  84.,  50.,  35.,  16.]),\n",
              " array([ 2. ,  5.1,  8.2, 11.3, 14.4, 17.5, 20.6, 23.7, 26.8, 29.9, 33. ]),\n",
              " <a list of 10 Patch objects>)"
            ]
          },
          "metadata": {},
          "execution_count": 31
        },
        {
          "output_type": "display_data",
          "data": {
            "text/plain": [
              "<Figure size 432x288 with 1 Axes>"
            ],
            "image/png": "[encoded data removed]"
          },
          "metadata": {
            "needs_background": "light"
          }
        }
      ]
    },
    {
      "cell_type": "code",
      "source": [
        "#I test how many games every different football teams win in super league in 10 years. \n",
        "#Through the gragh, we could see that most team wins around 10 games per season and the data is Skewed distributed.\n",
        "#The median is smaller than the mean. "
      ],
      "metadata": {
        "id": "q2AJ8_QhfAd5"
      },
      "execution_count": null,
      "outputs": []
    }
  ]
}